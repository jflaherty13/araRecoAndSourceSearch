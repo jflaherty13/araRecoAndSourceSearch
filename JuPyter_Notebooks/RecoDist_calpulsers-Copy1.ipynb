{
 "cells": [
  {
   "cell_type": "code",
   "execution_count": 1,
   "metadata": {},
   "outputs": [
    {
     "name": "stdout",
     "output_type": "stream",
     "text": [
      "Welcome to JupyROOT 6.14/06\n"
     ]
    }
   ],
   "source": [
    "import sys\n",
    "sys.path.append(\"/cvmfs/ara.opensciencegrid.org/trunk/centos7/source/root6_14_build/lib\") # go to parent dir\n",
    "sys.path.append(\"/users/PCON0003/cond0068/.local/lib/python2.7/site-packages\")\n",
    "import uproot\n",
    "import ROOT\n",
    "import math\n",
    "import numpy as np\n",
    "from ROOT import TH1D,TF1, gRandom, gPad, gStyle\n",
    "import matplotlib.pyplot as plt\n",
    "from ROOT import TChain, TSelector, TTree\n",
    "import os"
   ]
  },
  {
   "cell_type": "code",
   "execution_count": 2,
   "metadata": {},
   "outputs": [],
   "source": [
    "import util_analysis\n",
    "from util_analysis import isBadLivetime, isBadrun, isUntaggedCalRun"
   ]
  },
  {
   "cell_type": "code",
   "execution_count": null,
   "metadata": {},
   "outputs": [],
   "source": [
    "run_number=[]\n",
    "# phi_v=[]\n",
    "# theta_v=[]\n",
    "# phi_h=[]\n",
    "# theta_h=[]\n",
    "freqs_V=[]\n",
    "freqs_H=[]\n",
    "numruns=0\n",
    "threshCW=1.5\n",
    "for filename in os.listdir(\"/fs/project/PAS0654/ARA_DATA/A23/10pct_redo/CWID/A3/by_config/c2\"):#Loop over desired directory        \n",
    "    if filename.endswith(\"3517_joined_bins_6_19.root\"):\n",
    "        continue\n",
    "    if filename.endswith(\".root\"): #extension, .root in this case\n",
    "        f = ROOT.TFile.Open(os.path.join(\"/fs/project/PAS0654/ARA_DATA/A23/10pct_redo/CWID/A3/by_config/c2\", str(filename)))\n",
    "        runNum=int(filename.rsplit(\"_\",2)[-1].split(\".\")[0])\n",
    "        numEntries=f.NewCWTree.GetEntries()\n",
    "        if numEntries==0:\n",
    "            continue\n",
    "        f.NewCWTree.GetEntry(0)\n",
    "        if(isBadrun(runNum)==True):\n",
    "            continue\n",
    "        numruns+=1\n",
    "        if(isUntaggedCalRun(2,runNum)):\n",
    "            threshCW=2.0\n",
    "        for event in f.NewCWTree:\n",
    "            num_v=0\n",
    "            num_h=0\n",
    "            size=event.badFreqs_fwd.size()\n",
    "            if(size>0):\n",
    "                for j in range(2):\n",
    "                    for i in range(event.badFreqs_fwd[j].size()):\n",
    "                        if(event.badFreqs_fwd[j][i] > threshCW and abs(300. - event.badFreqs_fwd[j][i]) > 2. \n",
    "                        and abs(500. - event.badFreqs_fwd[j][i]) > 2. and abs(125. - event.badFreqs_fwd[j][i]) > 2.\n",
    "                        and event.badFreqs_fwd[j][i] < 850.):\n",
    "                            if(j==0):\n",
    "                                num_v+=1\n",
    "                            elif(j==1):\n",
    "                                num_h+=1\n",
    "            freqs_V.append(num_v)\n",
    "            freqs_H.append(num_h)\n",
    "            run_number.append(runNum)\n"
   ]
  },
  {
   "cell_type": "code",
   "execution_count": null,
   "metadata": {},
   "outputs": [],
   "source": [
    "import matplotlib.colors as mcolors\n",
    "import matplotlib.pyplot as plt\n",
    "fig, ax = plt.subplots(nrows=2, ncols=1, figsize=(10, 5))\n",
    "\n",
    "phi_hist = ax[0].hist2d(run_number,freqs_V, bins=40,norm=mcolors.LogNorm(),range=[[1400, 1950], [0, 50]],cmap='RdBu')\n",
    "# ax[0,0].set_xlim(1400,1910)\n",
    "ax[0].set_title(\"A3/c5, 41 m reconstructed $\\phi$\")\n",
    "ax[0].set_ylabel(\"$\\phi$\")\n",
    "ax[0].set_xlabel(\"Run Number\")\n",
    "# ax[0].set_ylim(-180,180)\n",
    "fig.colorbar(phi_hist[3],ax=ax[0])\n",
    "\n",
    "phi_hist = ax[1].hist2d(run_number,freqs_H, bins=40,norm=mcolors.LogNorm(),range=[[1400, 1950], [0, 50]],cmap='RdBu')\n",
    "# ax[0,0].set_xlim(1400,1910)\n",
    "ax[1].set_title(\"A3/c5, 41 m reconstructed $\\phi$\")\n",
    "ax[1].set_ylabel(\"$\\phi$\")\n",
    "ax[1].set_xlabel(\"Run Number\")\n",
    "# ax[0].set_ylim(-180,180)\n",
    "fig.colorbar(phi_hist[3],ax=ax[1])\n",
    "\n",
    "fig.tight_layout()\n",
    "fig.sav"
   ]
  },
  {
   "cell_type": "code",
   "execution_count": null,
   "metadata": {},
   "outputs": [],
   "source": [
    "f = ROOT.TFile.Open(\"/fs/project/PAS0654/ARA_DATA/A23/10pct_redo/CWID/A3/2013/CWID_station_3_run_1575.root\")\n",
    "f.NewCWTree.GetEntry(0)\n",
    "f.NewCWTree.badFreqs_fwd[1].size()\n",
    "for i in range(0,event.badFreqs_fwd.size()):\n",
    "        print(event.badFreqs_fwd[0][i])"
   ]
  },
  {
   "cell_type": "code",
   "execution_count": null,
   "metadata": {},
   "outputs": [],
   "source": [
    "for event in f.NewCWTree:\n",
    "    size=event.badFreqs_fwd.size()\n",
    "#     print(size)\n",
    "    if(size>0):\n",
    "        for i in range(event.badFreqs_fwd[1].size()):\n",
    "            print(event.badFreqs_fwd[1][i])"
   ]
  },
  {
   "cell_type": "code",
   "execution_count": null,
   "metadata": {},
   "outputs": [],
   "source": [
    "isUntaggedCalRun(1,1810)"
   ]
  },
  {
   "cell_type": "code",
   "execution_count": null,
   "metadata": {},
   "outputs": [],
   "source": []
  },
  {
   "cell_type": "code",
   "execution_count": null,
   "metadata": {},
   "outputs": [],
   "source": []
  }
 ],
 "metadata": {
  "kernelspec": {
   "display_name": "Python 3.6 (Conda 5.2) [python/3.6-conda5.2]",
   "language": "python",
   "name": "sys_python36conda"
  },
  "language_info": {
   "codemirror_mode": {
    "name": "ipython",
    "version": 3
   },
   "file_extension": ".py",
   "mimetype": "text/x-python",
   "name": "python",
   "nbconvert_exporter": "python",
   "pygments_lexer": "ipython3",
   "version": "3.6.6"
  }
 },
 "nbformat": 4,
 "nbformat_minor": 2
}
