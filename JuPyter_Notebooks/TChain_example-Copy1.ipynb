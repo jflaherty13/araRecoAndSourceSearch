{
 "cells": [
  {
   "cell_type": "markdown",
   "metadata": {},
   "source": [
    "# This notebook loops over files in a folder and joins them together in a TChain. Depending on the number of files it might take some time to joing them all (~1 min for 800 root files).\n",
    "\n"
   ]
  },
  {
   "cell_type": "code",
   "execution_count": 6,
   "metadata": {},
   "outputs": [],
   "source": [
    "import sys\n",
    "sys.path.append(\"/cvmfs/ara.opensciencegrid.org/trunk/centos7/source4/root6_14_build/lib\") # go to parent dir\n",
    "sys.path.append(\"/users/PCON0003/cond0068/.local/lib/python2.7/site-packages\")\n",
    "import uproot\n",
    "import ROOT\n",
    "import math\n",
    "import numpy as np\n",
    "from ROOT import TH1D,TF1, gRandom, gPad, gStyle\n",
    "import matplotlib.pyplot as plt\n",
    "from ROOT import TChain, TSelector, TTree\n",
    "import os\n"
   ]
  },
  {
   "cell_type": "code",
   "execution_count": 7,
   "metadata": {},
   "outputs": [],
   "source": [
    "file_list=[]#Define an empty list\n",
    "for filename in os.listdir(\"/fs/project/PAS0654/ARA_DATA/A23/10pct_redo/ValsForCuts/A3/c4\"):#Loop over desired directory\n",
    "    if filename.endswith(\".root\"): #extension, .root in this case\n",
    "        file_list.append(os.path.join(\"/fs/project/PAS0654/ARA_DATA/A23/10pct_redo/ValsForCuts/A3/c4\", str(filename))) #add file name to the list"
   ]
  },
  {
   "cell_type": "code",
   "execution_count": 8,
   "metadata": {},
   "outputs": [],
   "source": [
    "chain = TChain(\"AllTree\") #Define chain and tree that needs to be read. \"RecoVals\" in this case.\n",
    "for line in file_list:\n",
    "    chain.AddFile(line) #Add files to chain"
   ]
  },
  {
   "cell_type": "code",
   "execution_count": 9,
   "metadata": {},
   "outputs": [],
   "source": [
    "chain.unixTime\n",
    "numXbins=len(file_list)"
   ]
  },
  {
   "cell_type": "code",
   "execution_count": 10,
   "metadata": {
    "scrolled": true
   },
   "outputs": [
    {
     "ename": "AttributeError",
     "evalue": "'TChain' object has no attribute 'OutofBandIssue'",
     "output_type": "error",
     "traceback": [
      "\u001b[0;31m---------------------------------------------------------------------------\u001b[0m",
      "\u001b[0;31mAttributeError\u001b[0m                            Traceback (most recent call last)",
      "\u001b[0;32m<ipython-input-10-3d1b94f6379b>\u001b[0m in \u001b[0;36m<module>\u001b[0;34m()\u001b[0m\n\u001b[1;32m      3\u001b[0m \u001b[0;32mfor\u001b[0m \u001b[0mentry\u001b[0m \u001b[0;32min\u001b[0m \u001b[0mchain\u001b[0m\u001b[0;34m:\u001b[0m\u001b[0;34m\u001b[0m\u001b[0m\n\u001b[1;32m      4\u001b[0m     \u001b[0munixTime\u001b[0m\u001b[0;34m.\u001b[0m\u001b[0mappend\u001b[0m\u001b[0;34m(\u001b[0m\u001b[0mentry\u001b[0m\u001b[0;34m.\u001b[0m\u001b[0munixTime\u001b[0m\u001b[0;34m)\u001b[0m \u001b[0;31m#extract variables of interest\u001b[0m\u001b[0;34m\u001b[0m\u001b[0m\n\u001b[0;32m----> 5\u001b[0;31m     \u001b[0moutOfBand\u001b[0m\u001b[0;34m.\u001b[0m\u001b[0mappend\u001b[0m\u001b[0;34m(\u001b[0m\u001b[0mentry\u001b[0m\u001b[0;34m.\u001b[0m\u001b[0mOutofBandIssue\u001b[0m\u001b[0;34m)\u001b[0m\u001b[0;34m\u001b[0m\u001b[0m\n\u001b[0m",
      "\u001b[0;31mAttributeError\u001b[0m: 'TChain' object has no attribute 'OutofBandIssue'"
     ]
    }
   ],
   "source": [
    "unixTime=[]\n",
    "outOfBand=[]\n",
    "for entry in chain:\n",
    "    unixTime.append(entry.unixTime) #extract variables of interest\n",
    "    outOfBand.append(entry.OutofBandIssue)"
   ]
  },
  {
   "cell_type": "code",
   "execution_count": 11,
   "metadata": {},
   "outputs": [
    {
     "data": {
      "text/plain": [
       "7539"
      ]
     },
     "execution_count": 11,
     "metadata": {},
     "output_type": "execute_result"
    }
   ],
   "source": []
  },
  {
   "cell_type": "code",
   "execution_count": null,
   "metadata": {},
   "outputs": [],
   "source": [
    "import matplotlib.colors as mcolors\n",
    "\n",
    "plt.hist2d(unixTime,outOfBand,bins=[numXbins*200,10],norm=mcolors.LogNorm(),cmap=plt.cm.get_cmap('plasma'))\n",
    "plt.colorbar()\n",
    "plt.ylim(0,1.1)\n",
    "plt.title(\"c4, hasOutofBandGlitch\")\n",
    "plt.xlabel(\"unixTime\",fontsize=13)\n",
    "plt.ylabel(\"Boolean\",fontsize=13)\n",
    "plt.savefig(\"/users/PCON0003/cond0068/ARA/outOfBand_A3_c4.png\", dpi=200)"
   ]
  },
  {
   "cell_type": "code",
   "execution_count": null,
   "metadata": {},
   "outputs": [],
   "source": []
  }
 ],
 "metadata": {
  "kernelspec": {
   "display_name": "Python 3.6 (Conda 5.2) [python/3.6-conda5.2]",
   "language": "python",
   "name": "sys_python36conda"
  },
  "language_info": {
   "codemirror_mode": {
    "name": "ipython",
    "version": 3
   },
   "file_extension": ".py",
   "mimetype": "text/x-python",
   "name": "python",
   "nbconvert_exporter": "python",
   "pygments_lexer": "ipython3",
   "version": "3.6.6"
  }
 },
 "nbformat": 4,
 "nbformat_minor": 2
}
