{
 "cells": [
  {
   "cell_type": "code",
   "execution_count": 3,
   "metadata": {},
   "outputs": [],
   "source": [
    "import sys\n",
    "sys.path.append(\"/users/PAS0654/osu8354/root6_14_build/lib\") # go to parent dir\n",
    "sys.path.append(\"/users/PCON0003/cond0068/.local/lib/python2.7/site-packages\")\n",
    "import uproot\n",
    "import ROOT\n",
    "import math\n",
    "import numpy as np\n",
    "from ROOT import TH1D,TF1, gRandom, gPad, gStyle\n",
    "import matplotlib.pyplot as plt\n",
    "from ROOT import TChain, TSelector, TTree\n",
    "import os\n"
   ]
  },
  {
   "cell_type": "code",
   "execution_count": null,
   "metadata": {},
   "outputs": [],
   "source": [
    "for filename in os.listdir(\"/fs/project/PAS0654/ARA_DATA/A23/10pct_redo/ProcessedFile/A3/2013/\"):#Loop over desired directory\n",
    "    if filename.endswith(\"85_filter.root\"): #extension, .root in this case\n",
    "        print(os.path.join(\"/fs/project/PAS0654/ARA_DATA/A23/10pct_redo/ProcessedFile/A3/2013/\", str(filename)))\n",
    "        #run_number.append(filename.rsplit(\"_\",2)[-2].split(\".\")[0])#Get run number\n",
    "        file_list.append(os.path.join(\"/fs/project/PAS0654/ARA_DATA/A23/10pct_redo/ProcessedFile/A3/2013/\", str(filename))) #add file name to the list"
   ]
  },
  {
   "cell_type": "code",
   "execution_count": null,
   "metadata": {},
   "outputs": [],
   "source": [
    "run_number=np.array(run_number,float)"
   ]
  },
  {
   "cell_type": "code",
   "execution_count": null,
   "metadata": {},
   "outputs": [],
   "source": [
    "chain = TChain(\"OutputTree\") #Define chain and tree that needs to be read. \n",
    "for line in file_list:\n",
    "    chain.AddFile(line) #Add files to chain"
   ]
  },
  {
   "cell_type": "code",
   "execution_count": null,
   "metadata": {},
   "outputs": [],
   "source": [
    "unixTime=[]\n",
    "isCalpulser=[]\n",
    "for entry in chain:      \n",
    "    unixTime.append(entry.unixTime)\n",
    "    isCalpulser.append(entry.isCalpulser)"
   ]
  },
  {
   "cell_type": "code",
   "execution_count": null,
   "metadata": {},
   "outputs": [],
   "source": [
    "plt.plot(unixTime,isCalpulser)"
   ]
  },
  {
   "cell_type": "code",
   "execution_count": null,
   "metadata": {},
   "outputs": [],
   "source": [
    "plt.hist(run_number)"
   ]
  },
  {
   "cell_type": "markdown",
   "metadata": {},
   "source": [
    "# Get ratio of calpulser to normal events per run"
   ]
  },
  {
   "cell_type": "code",
   "execution_count": null,
   "metadata": {},
   "outputs": [],
   "source": [
    "run_number=[]\n",
    "ratio_value=[]\n",
    "\n",
    "for filename in os.listdir(\"/fs/project/PAS0654/ARA_DATA/A23/10pct_redo/ProcessedFile/A3/2014/\"):#Loop over desired directory\n",
    "    if filename.endswith(\"_filter.root\"): #extension, .root in this case\n",
    "        f = ROOT.TFile.Open(os.path.join(\"/fs/project/PAS0654/ARA_DATA/A23/10pct_redo/ProcessedFile/A3/2014/\", str(filename)))\n",
    "        numEntries=f.OutputTree.GetEntries()\n",
    "        if numEntries==0:\n",
    "            continue\n",
    "        num_calpul=0\n",
    "        for entry in f.OutputTree:\n",
    "            if entry.isCalpulser>0:\n",
    "                num_calpul+=1\n",
    "        #print(num_calpul)\n",
    "        run_number.append(int(filename.rsplit(\"_\",2)[-2].split(\".\")[0]))#Get run number\n",
    "        ratio_value.append(float(num_calpul/numEntries))\n",
    "            \n",
    "          "
   ]
  },
  {
   "cell_type": "code",
   "execution_count": 42,
   "metadata": {},
   "outputs": [
    {
     "data": {
      "image/png": "[encoded data removed]",
      "text/plain": [
       "<Figure size 432x288 with 1 Axes>"
      ]
     },
     "metadata": {},
     "output_type": "display_data"
    }
   ],
   "source": [
    "plt.plot(run_number,ratio_value, \"o\", markersize=1)\n",
    "plt.ylim(-0.01,0.2)\n",
    "plt.ylabel(\"#calpulsers/#events\")\n",
    "plt.xlabel(\"Run number\")\n",
    "plt.title(\"Ratio of calpulser events to total events, 2014\")\n",
    "plt.tight_layout()\n",
    "plt.savefig(\"calpulsers_2014.png\", dpi=200)"
   ]
  },
  {
   "cell_type": "code",
   "execution_count": null,
   "metadata": {},
   "outputs": [],
   "source": []
  }
 ],
 "metadata": {
  "kernelspec": {
   "display_name": "Python 3.6 (Conda 5.2) [python/3.6-conda5.2]",
   "language": "python",
   "name": "sys_python36conda"
  },
  "language_info": {
   "codemirror_mode": {
    "name": "ipython",
    "version": 3
   },
   "file_extension": ".py",
   "mimetype": "text/x-python",
   "name": "python",
   "nbconvert_exporter": "python",
   "pygments_lexer": "ipython3",
   "version": "3.6.6"
  }
 },
 "nbformat": 4,
 "nbformat_minor": 2
}
