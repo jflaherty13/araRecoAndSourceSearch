{
 "cells": [
  {
   "cell_type": "code",
   "execution_count": 1,
   "metadata": {},
   "outputs": [
    {
     "name": "stdout",
     "output_type": "stream",
     "text": [
      "Welcome to JupyROOT 6.14/06\n"
     ]
    }
   ],
   "source": [
    "import sys\n",
    "sys.path.append(\"/cvmfs/ara.opensciencegrid.org/trunk/centos7/source/root6_14_build/lib\") # go to parent dir\n",
    "sys.path.append(\"/users/PCON0003/cond0068/.local/lib/python2.7/site-packages\")\n",
    "import uproot\n",
    "import ROOT\n",
    "import math\n",
    "import numpy as np\n",
    "from ROOT import TH1D,TF1, gRandom, gPad, gStyle\n",
    "import matplotlib.pyplot as plt\n",
    "from ROOT import TChain, TSelector, TTree\n",
    "import os"
   ]
  },
  {
   "cell_type": "code",
   "execution_count": 115,
   "metadata": {},
   "outputs": [],
   "source": [
    "import util_analysis\n",
    "from util_analysis import isBadLivetime"
   ]
  },
  {
   "cell_type": "code",
   "execution_count": 101,
   "metadata": {},
   "outputs": [],
   "source": [
    "run_number=[]\n",
    "phi_v=[]\n",
    "theta_v=[]\n",
    "phi_h=[]\n",
    "theta_h=[]\n",
    "numruns=0\n",
    "for filename in os.listdir(\"/fs/project/PAS0654/ARA_DATA/A23/10pct/Joined/A3/by_config/c2/\"):#Loop over desired directory\n",
    "    if filename.endswith(\".root\"): #extension, .root in this case\n",
    "        f = ROOT.TFile.Open(os.path.join(\"/fs/project/PAS0654/ARA_DATA/A23/10pct/Joined/A3/by_config/c2\", str(filename)))\n",
    "        numEntries=f.OutputTree_recoRadius_6.GetEntries()\n",
    "        if numEntries==0:\n",
    "            continue\n",
    "        if(isBadrun==True):\n",
    "            continue\n",
    "        numruns+=1\n",
    "        for entry in f.OutputTree_recoRadius_6:\n",
    "            if entry.isCalpulser==False:\n",
    "                continue\n",
    "            run_number.append(entry.run)\n",
    "            theta_v.append(entry.peakTheta_single[0])\n",
    "            phi_v.append(entry.peakPhi_single[0])\n",
    "            theta_h.append(entry.peakTheta_single[1])\n",
    "            phi_h.append(entry.peakPhi_single[1])\n",
    "            \n",
    "          "
   ]
  },
  {
   "cell_type": "code",
   "execution_count": 103,
   "metadata": {},
   "outputs": [
    {
     "data": {
      "image/png": "[encoded data removed]",
      "text/plain": [
       "<Figure size 720x216 with 4 Axes>"
      ]
     },
     "metadata": {},
     "output_type": "display_data"
    }
   ],
   "source": [
    "fig, ax = plt.subplots(nrows=1, ncols=2, figsize=(10, 3))\n",
    "phi_hist = ax[0].hist2d(run_number,phi_v,bins=[600,100],norm=mcolors.LogNorm())\n",
    "# ax[0].set_xlim(1400,1910)\n",
    "ax[0].set_title(\"A3/c1, 41 m reconstructed $\\phi$\")\n",
    "ax[0].set_ylabel(\"$\\phi$\")\n",
    "ax[0].set_xlabel(\"Run Number\")\n",
    "fig.colorbar(phi_hist[3],ax=ax[0])\n",
    "theta_hist = ax[1].hist2d(run_number,theta_v,bins=[600,100],norm=mcolors.LogNorm())\n",
    "# ax[1].set_xlim(1400,1910)\n",
    "ax[1].set_ylabel(\"$\\\\theta$\")\n",
    "ax[1].set_title(\"A3/c1, 41 m reconstructed $\\\\theta$\")\n",
    "ax[1].set_xlabel(\"Run Number\")\n",
    "\n",
    "\n",
    "fig.colorbar(theta_hist[3],ax=ax[1])\n",
    "\n",
    "fig.tight_layout()\n",
    "# fig.savefig(\"/users/PCON0003/cond0068/ARA/A3_c1_reco_calpulsers.png\", dpi=200)\n"
   ]
  },
  {
   "cell_type": "code",
   "execution_count": 108,
   "metadata": {},
   "outputs": [],
   "source": [
    "isBadrun(4)"
   ]
  },
  {
   "cell_type": "code",
   "execution_count": null,
   "metadata": {},
   "outputs": [],
   "source": []
  }
 ],
 "metadata": {
  "kernelspec": {
   "display_name": "Python 3.6 (Conda 5.2) [python/3.6-conda5.2]",
   "language": "python",
   "name": "sys_python36conda"
  },
  "language_info": {
   "codemirror_mode": {
    "name": "ipython",
    "version": 3
   },
   "file_extension": ".py",
   "mimetype": "text/x-python",
   "name": "python",
   "nbconvert_exporter": "python",
   "pygments_lexer": "ipython3",
   "version": "3.6.6"
  }
 },
 "nbformat": 4,
 "nbformat_minor": 2
}
