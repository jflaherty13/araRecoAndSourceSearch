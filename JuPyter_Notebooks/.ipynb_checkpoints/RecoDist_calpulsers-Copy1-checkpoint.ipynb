{
 "cells": [
  {
   "cell_type": "code",
   "execution_count": null,
   "metadata": {},
   "outputs": [],
   "source": [
    "import sys\n",
    "sys.path.append(\"/cvmfs/ara.opensciencegrid.org/trunk/centos7/source/root6_14_build/lib\") # go to parent dir\n",
    "sys.path.append(\"/users/PCON0003/cond0068/.local/lib/python2.7/site-packages\")\n",
    "import uproot\n",
    "import ROOT\n",
    "import math\n",
    "import numpy as np\n",
    "from ROOT import TH1D,TF1, gRandom, gPad, gStyle\n",
    "import matplotlib.pyplot as plt\n",
    "from ROOT import TChain, TSelector, TTree\n",
    "import os"
   ]
  },
  {
   "cell_type": "code",
   "execution_count": null,
   "metadata": {},
   "outputs": [],
   "source": [
    "import util_analysis\n",
    "from util_analysis import isBadLivetime, isBadrun"
   ]
  },
  {
   "cell_type": "code",
   "execution_count": null,
   "metadata": {},
   "outputs": [],
   "source": [
    "run_number=[]\n",
    "# phi_v=[]\n",
    "# theta_v=[]\n",
    "# phi_h=[]\n",
    "# theta_h=[]\n",
    "peak_corr=[]\n",
    "numruns=0\n",
    "for filename in os.listdir(\"/fs/project/PAS0654/ARA_DATA/A23/10pct_redo/CWID/A3/by_config/c1\"):#Loop over desired directory        \n",
    "    if filename.endswith(\"3517_joined_bins_6_19.root\"):\n",
    "        continue\n",
    "    if filename.endswith(\".root\"): #extension, .root in this case\n",
    "        f = ROOT.TFile.Open(os.path.join(\"/fs/project/PAS0654/ARA_DATA/A23/10pct_redo/CWID/A3/by_config/c1\", str(filename)))\n",
    "        runNum=int(filename.rsplit(\"_\",2)[-1].split(\".\")[0])\n",
    "        numEntries=f.NewCWTree.GetEntries()\n",
    "        if numEntries==0:\n",
    "            continue\n",
    "        f.NewCWTree.GetEntry(0)\n",
    "        if(isBadrun(runNum)==True):\n",
    "            continue\n",
    "        numruns+=1\n",
    "        for event in f.NewCWTree:\n",
    "            size=event.badFreqs_fwd.size()\n",
    "            if(size>0):\n",
    "                for i in range(event.badFreqs_fwd[1].size()):\n",
    "                    print(event.badFreqs_fwd[1][i])"
   ]
  },
  {
   "cell_type": "code",
   "execution_count": null,
   "metadata": {},
   "outputs": [],
   "source": [
    "f = ROOT.TFile.Open(\"/fs/project/PAS0654/ARA_DATA/A23/10pct_redo/CWID/A3/2013/CWID_station_3_run_1575.root\")\n"
   ]
  },
  {
   "cell_type": "code",
   "execution_count": null,
   "metadata": {},
   "outputs": [],
   "source": [
    "f.NewCWTree.GetEntry(0)\n",
    "f.NewCWTree.badFreqs_fwd[1].size()\n",
    "for i in range(0,event.badFreqs_fwd.size()):\n",
    "        print(event.badFreqs_fwd[0][i])"
   ]
  },
  {
   "cell_type": "code",
   "execution_count": null,
   "metadata": {},
   "outputs": [],
   "source": [
    "for event in f.NewCWTree:\n",
    "    size=event.badFreqs_fwd.size()\n",
    "#     print(size)\n",
    "    if(size>0):\n",
    "        for i in range(event.badFreqs_fwd[1].size()):\n",
    "            print(event.badFreqs_fwd[1][i])"
   ]
  },
  {
   "cell_type": "code",
   "execution_count": null,
   "metadata": {},
   "outputs": [],
   "source": []
  }
 ],
 "metadata": {
  "kernelspec": {
   "display_name": "Python 3.6 (Conda 5.2) [python/3.6-conda5.2]",
   "language": "python",
   "name": "sys_python36conda"
  },
  "language_info": {
   "codemirror_mode": {
    "name": "ipython",
    "version": 3
   },
   "file_extension": ".py",
   "mimetype": "text/x-python",
   "name": "python",
   "nbconvert_exporter": "python",
   "pygments_lexer": "ipython3",
   "version": "3.6.6"
  }
 },
 "nbformat": 4,
 "nbformat_minor": 2
}
