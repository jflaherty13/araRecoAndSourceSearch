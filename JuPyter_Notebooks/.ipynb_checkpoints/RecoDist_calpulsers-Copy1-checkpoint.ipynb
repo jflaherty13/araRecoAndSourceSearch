{
 "cells": [
  {
   "cell_type": "code",
   "execution_count": 6,
   "metadata": {},
   "outputs": [],
   "source": [
    "import sys\n",
    "sys.path.append(\"/users/PAS0654/osu8354/root6_14_build/lib\") # go to parent dir\n",
    "sys.path.append(\"/users/PCON0003/cond0068/.local/lib/python2.7/site-packages\")\n",
    "import uproot\n",
    "import ROOT\n",
    "import math\n",
    "import numpy as np\n",
    "from ROOT import TH1D,TF1, gRandom, gPad, gStyle\n",
    "import matplotlib.pyplot as plt\n",
    "from ROOT import TChain, TSelector, TTree\n",
    "import os"
   ]
  },
  {
   "cell_type": "code",
   "execution_count": 7,
   "metadata": {},
   "outputs": [],
   "source": [
    "import util_analysis\n",
    "from util_analysis import isBadLivetime, isBadrun"
   ]
  },
  {
   "cell_type": "code",
   "execution_count": 17,
   "metadata": {},
   "outputs": [],
   "source": [
    "run_number=[]\n",
    "phi_v=[]\n",
    "theta_v=[]\n",
    "phi_h=[]\n",
    "theta_h=[]\n",
    "numruns=0\n",
    "for filename in os.listdir(\"/fs/project/PAS0654/ARA_DATA/A23/10pct/Joined/A3/by_config/c3/\"):#Loop over desired directory\n",
    "    if filename.endswith(\"3517_joined_bins_6_19.root\"):\n",
    "        continue\n",
    "    if filename.endswith(\".root\"): #extension, .root in this case\n",
    "        f = ROOT.TFile.Open(os.path.join(\"/fs/project/PAS0654/ARA_DATA/A23/10pct/Joined/A3/by_config/c3\", str(filename)))\n",
    "        numEntries=f.OutputTree_recoRadius_6.GetEntries()\n",
    "        if numEntries==0:\n",
    "            continue\n",
    "        f.OutputTree_recoRadius_6.GetEntry(0)\n",
    "        if(isBadrun(f.OutputTree_recoRadius_6.run)==True):\n",
    "            continue\n",
    "        numruns+=1\n",
    "        for entry in f.OutputTree_recoRadius_6:\n",
    "            if entry.isCalpulser==False:\n",
    "                continue\n",
    "            if isBadLivetime(3,entry.unixTime):\n",
    "                continue\n",
    "            run_number.append(entry.run)\n",
    "            theta_v.append(entry.peakTheta_single[0])\n",
    "            phi_v.append(entry.peakPhi_single[0])\n",
    "            theta_h.append(entry.peakTheta_single[1])\n",
    "            phi_h.append(entry.peakPhi_single[1])\n",
    "            \n",
    "          "
   ]
  },
  {
   "cell_type": "code",
   "execution_count": 18,
   "metadata": {},
   "outputs": [
    {
     "data": {
      "image/png": "[encoded data removed]",
      "text/plain": [
       "<Figure size 720x216 with 4 Axes>"
      ]
     },
     "metadata": {},
     "output_type": "display_data"
    }
   ],
   "source": [
    "import matplotlib.colors as mcolors\n",
    "fig, ax = plt.subplots(nrows=1, ncols=2, figsize=(10, 3))\n",
    "phi_hist = ax[0].hist2d(run_number,phi_v,bins=[600,100],norm=mcolors.LogNorm())\n",
    "# ax[0].set_xlim(1400,1910)\n",
    "ax[0].set_title(\"A3/c3, 41 m reconstructed $\\phi$\")\n",
    "ax[0].set_ylabel(\"$\\phi$\")\n",
    "ax[0].set_xlabel(\"Run Number\")\n",
    "fig.colorbar(phi_hist[3],ax=ax[0])\n",
    "theta_hist = ax[1].hist2d(run_number,theta_v,bins=[600,100],norm=mcolors.LogNorm())\n",
    "# ax[1].set_xlim(1400,1910)\n",
    "ax[1].set_ylabel(\"$\\\\theta$\")\n",
    "ax[1].set_title(\"A3/c3, 41 m reconstructed $\\\\theta$\")\n",
    "ax[1].set_xlabel(\"Run Number\")\n",
    "\n",
    "\n",
    "fig.colorbar(theta_hist[3],ax=ax[1])\n",
    "\n",
    "fig.tight_layout()\n",
    "fig.savefig(\"/users/PCON0003/cond0068/ARA/A3_c3_reco_calpulsers.png\", dpi=200)\n"
   ]
  },
  {
   "cell_type": "code",
   "execution_count": null,
   "metadata": {},
   "outputs": [],
   "source": [
    "f = ROOT.TFile.Open(\"/fs/scratch/PAS0654/ara/10pct/Joined/A3/2015/processed_station_3_run_3949_joined_bins_6_19.root\")"
   ]
  },
  {
   "cell_type": "code",
   "execution_count": 16,
   "metadata": {},
   "outputs": [
    {
     "name": "stdout",
     "output_type": "stream",
     "text": [
      "TFile**\t\t/fs/project/PAS0654/ARA_DATA/A23/10pct/Joined/A3/by_config/c3/processed_station_3_run_3517_joined_bins_6_19.root\t\n",
      " TFile*\t\t/fs/project/PAS0654/ARA_DATA/A23/10pct/Joined/A3/by_config/c3/processed_station_3_run_3517_joined_bins_6_19.root\t\n",
      "  KEY: TTree\tOutputTree_filter;1\tOutputTree\n"
     ]
    }
   ],
   "source": [
    "f.ls()\n"
   ]
  },
  {
   "cell_type": "code",
   "execution_count": 15,
   "metadata": {},
   "outputs": [
    {
     "ename": "AttributeError",
     "evalue": "TFile object has no attribute 'OutputTree_recoRadius_6'",
     "output_type": "error",
     "traceback": [
      "\u001b[0;31m---------------------------------------------------------------------------\u001b[0m",
      "\u001b[0;31mAttributeError\u001b[0m                            Traceback (most recent call last)",
      "\u001b[0;32m<ipython-input-15-683b87fe7960>\u001b[0m in \u001b[0;36m<module>\u001b[0;34m()\u001b[0m\n\u001b[0;32m----> 1\u001b[0;31m \u001b[0misBadrun\u001b[0m\u001b[0;34m(\u001b[0m\u001b[0mf\u001b[0m\u001b[0;34m.\u001b[0m\u001b[0mOutputTree_recoRadius_6\u001b[0m\u001b[0;34m.\u001b[0m\u001b[0mrun\u001b[0m\u001b[0;34m)\u001b[0m\u001b[0;34m\u001b[0m\u001b[0m\n\u001b[0m",
      "\u001b[0;31mAttributeError\u001b[0m: TFile object has no attribute 'OutputTree_recoRadius_6'"
     ]
    }
   ],
   "source": [
    "isBadrun(f.OutputTree_recoRadius_6.run)"
   ]
  },
  {
   "cell_type": "code",
   "execution_count": 11,
   "metadata": {},
   "outputs": [
    {
     "data": {
      "text/plain": [
       "False"
      ]
     },
     "execution_count": 11,
     "metadata": {},
     "output_type": "execute_result"
    }
   ],
   "source": [
    "isBadLivetime(3,entry.unixTime)"
   ]
  },
  {
   "cell_type": "code",
   "execution_count": null,
   "metadata": {},
   "outputs": [],
   "source": []
  }
 ],
 "metadata": {
  "kernelspec": {
   "display_name": "Python 3.6 (Conda 5.2) [python/3.6-conda5.2]",
   "language": "python",
   "name": "sys_python36conda"
  },
  "language_info": {
   "codemirror_mode": {
    "name": "ipython",
    "version": 3
   },
   "file_extension": ".py",
   "mimetype": "text/x-python",
   "name": "python",
   "nbconvert_exporter": "python",
   "pygments_lexer": "ipython3",
   "version": "3.6.6"
  }
 },
 "nbformat": 4,
 "nbformat_minor": 2
}
