{
 "cells": [
  {
   "cell_type": "code",
   "execution_count": 3,
   "metadata": {},
   "outputs": [],
   "source": [
    "import sys\n",
    "sys.path.append(\"/users/PAS0654/osu8354/root6_14_build/lib\") # go to parent dir\n",
    "sys.path.append(\"/users/PCON0003/cond0068/.local/lib/python2.7/site-packages\")\n",
    "import uproot\n",
    "import ROOT\n",
    "import math\n",
    "import numpy as np\n",
    "from ROOT import TH1D,TF1, gRandom, gPad, gStyle\n",
    "import matplotlib.pyplot as plt\n",
    "from ROOT import TChain, TSelector, TTree\n",
    "import os\n"
   ]
  },
  {
   "cell_type": "code",
   "execution_count": 4,
   "metadata": {},
   "outputs": [
    {
     "name": "stdout",
     "output_type": "stream",
     "text": [
      "/fs/project/PAS0654/ARA_DATA/A23/10pct_redo/ProcessedFile/A3/2013/processed_station_3_run_1185_filter.root\n"
     ]
    },
    {
     "ename": "NameError",
     "evalue": "name 'file_list' is not defined",
     "output_type": "error",
     "traceback": [
      "\u001b[0;31m---------------------------------------------------------------------------\u001b[0m",
      "\u001b[0;31mNameError\u001b[0m                                 Traceback (most recent call last)",
      "\u001b[0;32m<ipython-input-4-1e1b19476f47>\u001b[0m in \u001b[0;36m<module>\u001b[0;34m()\u001b[0m\n\u001b[1;32m      3\u001b[0m         \u001b[0mprint\u001b[0m\u001b[0;34m(\u001b[0m\u001b[0mos\u001b[0m\u001b[0;34m.\u001b[0m\u001b[0mpath\u001b[0m\u001b[0;34m.\u001b[0m\u001b[0mjoin\u001b[0m\u001b[0;34m(\u001b[0m\u001b[0;34m\"/fs/project/PAS0654/ARA_DATA/A23/10pct_redo/ProcessedFile/A3/2013/\"\u001b[0m\u001b[0;34m,\u001b[0m \u001b[0mstr\u001b[0m\u001b[0;34m(\u001b[0m\u001b[0mfilename\u001b[0m\u001b[0;34m)\u001b[0m\u001b[0;34m)\u001b[0m\u001b[0;34m)\u001b[0m\u001b[0;34m\u001b[0m\u001b[0m\n\u001b[1;32m      4\u001b[0m         \u001b[0;31m#run_number.append(filename.rsplit(\"_\",2)[-2].split(\".\")[0])#Get run number\u001b[0m\u001b[0;34m\u001b[0m\u001b[0;34m\u001b[0m\u001b[0m\n\u001b[0;32m----> 5\u001b[0;31m         \u001b[0mfile_list\u001b[0m\u001b[0;34m.\u001b[0m\u001b[0mappend\u001b[0m\u001b[0;34m(\u001b[0m\u001b[0mos\u001b[0m\u001b[0;34m.\u001b[0m\u001b[0mpath\u001b[0m\u001b[0;34m.\u001b[0m\u001b[0mjoin\u001b[0m\u001b[0;34m(\u001b[0m\u001b[0;34m\"/fs/project/PAS0654/ARA_DATA/A23/10pct_redo/ProcessedFile/A3/2013/\"\u001b[0m\u001b[0;34m,\u001b[0m \u001b[0mstr\u001b[0m\u001b[0;34m(\u001b[0m\u001b[0mfilename\u001b[0m\u001b[0;34m)\u001b[0m\u001b[0;34m)\u001b[0m\u001b[0;34m)\u001b[0m \u001b[0;31m#add file name to the list\u001b[0m\u001b[0;34m\u001b[0m\u001b[0m\n\u001b[0m",
      "\u001b[0;31mNameError\u001b[0m: name 'file_list' is not defined"
     ]
    }
   ],
   "source": [
    "file_list\n",
    "for filename in os.listdir(\"/fs/project/PAS0654/ARA_DATA/A23/10pct_redo/ProcessedFile/A3/2013/\"):#Loop over desired directory\n",
    "    if filename.endswith(\"85_filter.root\"): #extension, .root in this case\n",
    "        print(os.path.join(\"/fs/project/PAS0654/ARA_DATA/A23/10pct_redo/ProcessedFile/A3/2013/\", str(filename)))\n",
    "        #run_number.append(filename.rsplit(\"_\",2)[-2].split(\".\")[0])#Get run number\n",
    "        file_list.append(os.path.join(\"/fs/project/PAS0654/ARA_DATA/A23/10pct_redo/ProcessedFile/A3/2013/\", str(filename))) #add file name to the list"
   ]
  },
  {
   "cell_type": "code",
   "execution_count": 5,
   "metadata": {},
   "outputs": [
    {
     "ename": "NameError",
     "evalue": "name 'run_number' is not defined",
     "output_type": "error",
     "traceback": [
      "\u001b[0;31m---------------------------------------------------------------------------\u001b[0m",
      "\u001b[0;31mNameError\u001b[0m                                 Traceback (most recent call last)",
      "\u001b[0;32m<ipython-input-5-54c926ef0eff>\u001b[0m in \u001b[0;36m<module>\u001b[0;34m()\u001b[0m\n\u001b[0;32m----> 1\u001b[0;31m \u001b[0mrun_number\u001b[0m\u001b[0;34m=\u001b[0m\u001b[0mnp\u001b[0m\u001b[0;34m.\u001b[0m\u001b[0marray\u001b[0m\u001b[0;34m(\u001b[0m\u001b[0mrun_number\u001b[0m\u001b[0;34m,\u001b[0m\u001b[0mfloat\u001b[0m\u001b[0;34m)\u001b[0m\u001b[0;34m\u001b[0m\u001b[0m\n\u001b[0m",
      "\u001b[0;31mNameError\u001b[0m: name 'run_number' is not defined"
     ]
    }
   ],
   "source": [
    "run_number=np.array(run_number,float)"
   ]
  },
  {
   "cell_type": "code",
   "execution_count": null,
   "metadata": {},
   "outputs": [],
   "source": [
    "chain = TChain(\"OutputTree\") #Define chain and tree that needs to be read. \n",
    "for line in file_list:\n",
    "    chain.AddFile(line) #Add files to chain"
   ]
  },
  {
   "cell_type": "code",
   "execution_count": null,
   "metadata": {},
   "outputs": [],
   "source": [
    "unixTime=[]\n",
    "isCalpulser=[]\n",
    "for entry in chain:      \n",
    "    unixTime.append(entry.unixTime)\n",
    "    isCalpulser.append(entry.isCalpulser)"
   ]
  },
  {
   "cell_type": "code",
   "execution_count": null,
   "metadata": {},
   "outputs": [],
   "source": [
    "plt.plot(unixTime,isCalpulser)"
   ]
  },
  {
   "cell_type": "code",
   "execution_count": null,
   "metadata": {},
   "outputs": [],
   "source": [
    "plt.hist(run_number)"
   ]
  },
  {
   "cell_type": "markdown",
   "metadata": {},
   "source": [
    "# Get ratio of calpulser to normal events per run"
   ]
  },
  {
   "cell_type": "code",
   "execution_count": 61,
   "metadata": {},
   "outputs": [],
   "source": [
    "run_number=[]\n",
    "ratio_value=[]\n",
    "\n",
    "for filename in os.listdir(\"/fs/project/PAS0654/ARA_DATA/A23/10pct_redo/ProcessedFile/A3/by_config/c5/\"):#Loop over desired directory\n",
    "    if filename.endswith(\"_filter.root\"): #extension, .root in this case\n",
    "        f = ROOT.TFile.Open(os.path.join(\"/fs/project/PAS0654/ARA_DATA/A23/10pct_redo/ProcessedFile/A3/by_config/c5/\", str(filename)))\n",
    "        numEntries=f.OutputTree.GetEntries()\n",
    "        if numEntries==0:\n",
    "            continue\n",
    "        num_calpul=0\n",
    "        for entry in f.OutputTree:\n",
    "            if entry.isCalpulser>0:\n",
    "                num_calpul+=1\n",
    "        #print(num_calpul)\n",
    "        run_number.append(int(filename.rsplit(\"_\",2)[-2].split(\".\")[0]))#Get run number\n",
    "        ratio_value.append(float(num_calpul/numEntries))\n",
    "            \n",
    "          "
   ]
  },
  {
   "cell_type": "markdown",
   "metadata": {},
   "source": [
    "## Save to CSV file"
   ]
  },
  {
   "cell_type": "code",
   "execution_count": 62,
   "metadata": {},
   "outputs": [],
   "source": [
    "import pandas as pd\n",
    "data = {'Run Number':run_number, \"Ratio\":ratio_value}\n",
    "df = pd.DataFrame(data) \n",
    "df = df.sort_values(by=['Run Number'])\n",
    "df = df[df[\"Ratio\"]<=0.03]\n",
    "df=df.round(3)\n",
    "df.to_csv (r'/users/PCON0003/cond0068/ARA/AraRoot/analysis/a23_analysis_tools/A3_c5_untagged_calpul.csv', index = None, header=True)\n",
    "#df"
   ]
  },
  {
   "cell_type": "code",
   "execution_count": 63,
   "metadata": {},
   "outputs": [
    {
     "data": {
      "image/png": "[encoded data removed]",
      "text/plain": [
       "<Figure size 432x288 with 1 Axes>"
      ]
     },
     "metadata": {},
     "output_type": "display_data"
    }
   ],
   "source": [
    "plt.plot(run_number,ratio_value, \"o\", markersize=1)\n",
    "# plt.xlim(1800,4000)\n",
    "plt.ylabel(\"#calpulsers/#events\")\n",
    "plt.xlabel(\"Run number\")\n",
    "plt.title(\"Ratio of calpulser events to total events, c5\")\n",
    "plt.tight_layout()\n",
    "#plt.xlim(1400,2000)\n",
    "plt.savefig(\"calpulsers_c5.png\", dpi=200)"
   ]
  },
  {
   "cell_type": "code",
   "execution_count": null,
   "metadata": {},
   "outputs": [],
   "source": []
  }
 ],
 "metadata": {
  "kernelspec": {
   "display_name": "Python 3.6 (Conda 5.2) [python/3.6-conda5.2]",
   "language": "python",
   "name": "sys_python36conda"
  },
  "language_info": {
   "codemirror_mode": {
    "name": "ipython",
    "version": 3
   },
   "file_extension": ".py",
   "mimetype": "text/x-python",
   "name": "python",
   "nbconvert_exporter": "python",
   "pygments_lexer": "ipython3",
   "version": "3.6.6"
  }
 },
 "nbformat": 4,
 "nbformat_minor": 2
}
