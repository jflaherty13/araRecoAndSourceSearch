{
 "cells": [
  {
   "cell_type": "code",
   "execution_count": null,
   "metadata": {},
   "outputs": [],
   "source": [
    "import sys\n",
    "sys.path.append(\"/users/PAS0654/osu8354/root6_14_build/lib\") # go to parent dir\n",
    "sys.path.append(\"/users/PCON0003/cond0068/.local/lib/python2.7/site-packages\")\n",
    "import ROOT\n",
    "import math\n",
    "import numpy as np\n",
    "from ROOT import TH1D,TF1, gRandom, gPad, gStyle\n",
    "import matplotlib.pyplot as plt\n",
    "from ROOT import TChain, TSelector, TTree\n",
    "import os\n",
    "import pickle\n",
    "import pandas as csv"
   ]
  },
  {
   "cell_type": "code",
   "execution_count": null,
   "metadata": {},
   "outputs": [],
   "source": [
    "file_list\n",
    "for filename in os.listdir(\"/fs/project/PAS0654/ARA_DATA/A23/10pct_redo/ProcessedFile/A3/2013/\"):#Loop over desired directory\n",
    "    if filename.endswith(\"85_filter.root\"): #extension, .root in this case\n",
    "        print(os.path.join(\"/fs/project/PAS0654/ARA_DATA/A23/10pct_redo/ProcessedFile/A3/2013/\", str(filename)))\n",
    "        #run_number.append(filename.rsplit(\"_\",2)[-2].split(\".\")[0])#Get run number\n",
    "        file_list.append(os.path.join(\"/fs/project/PAS0654/ARA_DATA/A23/10pct_redo/ProcessedFile/A3/2013/\", str(filename))) #add file name to the list"
   ]
  },
  {
   "cell_type": "code",
   "execution_count": null,
   "metadata": {},
   "outputs": [],
   "source": [
    "run_number=np.array(run_number,float)"
   ]
  },
  {
   "cell_type": "code",
   "execution_count": null,
   "metadata": {},
   "outputs": [],
   "source": [
    "chain = TChain(\"OutputTree\") #Define chain and tree that needs to be read. \n",
    "for line in file_list:\n",
    "    chain.AddFile(line) #Add files to chain"
   ]
  },
  {
   "cell_type": "code",
   "execution_count": null,
   "metadata": {},
   "outputs": [],
   "source": [
    "unixTime=[]\n",
    "isCalpulser=[]\n",
    "for entry in chain:      \n",
    "    unixTime.append(entry.unixTime)\n",
    "    isCalpulser.append(entry.isCalpulser)"
   ]
  },
  {
   "cell_type": "code",
   "execution_count": null,
   "metadata": {},
   "outputs": [],
   "source": [
    "plt.plot(unixTime,isCalpulser)"
   ]
  },
  {
   "cell_type": "code",
   "execution_count": null,
   "metadata": {},
   "outputs": [],
   "source": [
    "plt.hist(run_number)"
   ]
  },
  {
   "cell_type": "markdown",
   "metadata": {},
   "source": [
    "# Get ratio of calpulser to normal events per run"
   ]
  },
  {
   "cell_type": "code",
   "execution_count": null,
   "metadata": {},
   "outputs": [],
   "source": [
    "run_number=[]\n",
    "ratio_value=[]\n",
    "\n",
    "for filename in os.listdir(\"/fs/project/PAS0654/ARA_DATA/A23/10pct_redo/ProcessedFile/A3/by_config/c5/\"):#Loop over desired directory\n",
    "    if filename.endswith(\"_filter.root\"): #extension, .root in this case\n",
    "        f = ROOT.TFile.Open(os.path.join(\"/fs/project/PAS0654/ARA_DATA/A23/10pct_redo/ProcessedFile/A3/by_config/c5/\", str(filename)))\n",
    "        numEntries=f.OutputTree.GetEntries()\n",
    "        if numEntries==0:\n",
    "            continue\n",
    "        num_calpul=0\n",
    "        for entry in f.OutputTree:\n",
    "            if entry.isCalpulser>0:\n",
    "                num_calpul+=1\n",
    "        #print(num_calpul)\n",
    "        run_number.append(int(filename.rsplit(\"_\",2)[-2].split(\".\")[0]))#Get run number\n",
    "        ratio_value.append(float(num_calpul/numEntries))\n",
    "            \n",
    "          "
   ]
  },
  {
   "cell_type": "markdown",
   "metadata": {},
   "source": [
    "## Save to CSV file"
   ]
  },
  {
   "cell_type": "code",
   "execution_count": null,
   "metadata": {},
   "outputs": [],
   "source": [
    "data = {'Run Number':run_number, \"Ratio\":ratio_value}\n",
    "df = pd.DataFrame(data) \n",
    "df = df.sort_values(by=['Run Number'])\n",
    "df = df[df[\"Ratio\"]<=0.03]\n",
    "df=df.round(3)\n",
    "df.to_csv (r'/users/PCON0003/cond0068/ARA/AraRoot/analysis/a23_analysis_tools/A3_c5_untagged_calpul.csv', index = None, header=True)\n",
    "#df"
   ]
  },
  {
   "cell_type": "code",
   "execution_count": null,
   "metadata": {},
   "outputs": [],
   "source": [
    "plt.plot(run_number,ratio_value, \"o\", markersize=1)\n",
    "# plt.xlim(1800,4000)\n",
    "plt.ylabel(\"#calpulsers/#events\")\n",
    "plt.xlabel(\"Run number\")\n",
    "plt.title(\"Ratio of calpulser events to total events, c5\")\n",
    "plt.tight_layout()\n",
    "#plt.xlim(1400,2000)\n",
    "plt.savefig(\"calpulsers_c5.png\", dpi=200)"
   ]
  },
  {
   "cell_type": "markdown",
   "metadata": {},
   "source": [
    "# Get 2D plot of rms per run"
   ]
  },
  {
   "cell_type": "code",
   "execution_count": null,
   "metadata": {},
   "outputs": [],
   "source": [
    "def isBadrun(runNum):\n",
    "    colname=[\"run\"]\n",
    "    import pandas as pd\n",
    "    badRunList=pd.read_csv(\"/users/PCON0003/cond0068/ARA/AraRoot/analysis/ARA_analysis/files/badRuns_list_A3.txt\",names=colname)\n",
    "    print((badRunList[\"run\"]==runNum).any())"
   ]
  },
  {
   "cell_type": "code",
   "execution_count": null,
   "metadata": {},
   "outputs": [],
   "source": [
    "isBadrun(11)"
   ]
  },
  {
   "cell_type": "code",
   "execution_count": null,
   "metadata": {
    "scrolled": false
   },
   "outputs": [],
   "source": [
    "colnames={'run_number': [],\n",
    " 'rms_ch0': [],\n",
    " 'rms_ch1': [],\n",
    " 'rms_ch2': [],\n",
    " 'rms_ch3': [],\n",
    " 'rms_ch4': [],\n",
    " 'rms_ch5': [],\n",
    " 'rms_ch6': [],\n",
    " 'rms_ch7': [],\n",
    " 'rms_ch8': [],\n",
    " 'rms_ch9': [],\n",
    " 'rms_ch10': [],\n",
    " 'rms_ch11': [],\n",
    " 'rms_ch12': [],\n",
    " 'rms_ch13': [],\n",
    " 'rms_ch14': [],\n",
    " 'rms_ch15': []}\n",
    "# colnames=dict.fromkeys([\"rms_ch{0}\".format(x) for x in range(0,16)],[])\n",
    "\n",
    "for filename in os.listdir(\"/fs/project/PAS0654/ARA_DATA/A23/10pct/other_studies/BasicInfo/A3/c2/\"):#Loop over desired directory\n",
    "    if filename.endswith(\"10.root\"): #extension, .root in this case\n",
    "        f = ROOT.TFile.Open(os.path.join(\"/fs/project/PAS0654/ARA_DATA/A23/10pct/other_studies/BasicInfo/A3/c2/\", str(filename)))\n",
    "        numEntries=f.outTree.GetEntries()\n",
    "        if numEntries==0:\n",
    "            continue\n",
    "        if(f.outTree.runNum<3550 || f.outTree.runNum >4000):\n",
    "            continue\n",
    "        for entry in f.outTree:\n",
    "            colnames[\"run_number\"].append(f.outTree.runNum)\n",
    "            for i in range(0,16):\n",
    "                colnames[\"rms_ch{0}\".format(i)].append(f.outTree.deepChannelRMS[i])\n",
    "            \n",
    "            \n",
    "            \n",
    "            \n",
    "            \n",
    "            "
   ]
  },
  {
   "cell_type": "code",
   "execution_count": 2,
   "metadata": {
    "scrolled": true
   },
   "outputs": [],
   "source": [
    "import pickle\n",
    "%matplotlib inline"
   ]
  },
  {
   "cell_type": "code",
   "execution_count": 3,
   "metadata": {},
   "outputs": [],
   "source": [
    "with open('../python_scripts/files/RMS_A3_c3.pickle', 'rb') as handle:\n",
    "    colnames = pickle.load(handle)\n",
    "\n",
    "import matplotlib.pyplot as plt\n",
    "import matplotlib.colors as mcolors\n",
    "# plt.hist2d(colnames[\"run_number\"],colnames['rms_ch0'],bins=[500,500],norm=mcolors.LogNorm())\n",
    "# plt.colorbar()\n",
    "# plt.title(\"Distribution of RMS values, A3/c1 (ch0)\", fontsize=15)\n",
    "# plt.xlim(1400,1910)\n",
    "# plt.ylim(20,200)\n",
    "# plt.xlabel(\"Run Number\", fontsize=13)\n",
    "# plt.ylabel(\"RMS [mV]\", fontsize=13)\n",
    "# # plt.savefig(\"/users/PCON0003/cond0068/ARA/rms_dist_A3_c1_ch0.png\", dpi=200)"
   ]
  },
  {
   "cell_type": "code",
   "execution_count": 4,
   "metadata": {},
   "outputs": [
    {
     "data": {
      "image/png": "[encoded data removed]",
      "text/plain": [
       "<Figure size 432x288 with 16 Axes>"
      ]
     },
     "metadata": {},
     "output_type": "display_data"
    }
   ],
   "source": [
    "fig = plt.figure()\n",
    "\n",
    "for i in range(0,16):\n",
    "    ax = fig.add_subplot(4,4,i+1)\n",
    "    ax.hist2d(colnames[\"run_number\"],colnames[\"rms_ch{0}\".format(i)],bins=[500,500],norm=mcolors.LogNorm())\n",
    "#     ax.set_xlim(1400,1910)\n",
    "    ax.set_ylim(10,200)\n",
    "    ax.set_title(\"ch{0}/c3\".format(i))\n",
    "#     ax.colorbar(ax=ax)\n",
    "    \n",
    "for ax in fig.get_axes():\n",
    "    ax.label_outer()\n",
    "plt.tight_layout()\n",
    "# fig.title(\"A3/c1\")\n",
    "plt.savefig(\"/users/PCON0003/cond0068/ARA/rms_dist_A3_c3.png\", dpi=200)"
   ]
  },
  {
   "cell_type": "markdown",
   "metadata": {},
   "source": [
    "# Get rate of soft triggers per run"
   ]
  },
  {
   "cell_type": "code",
   "execution_count": null,
   "metadata": {},
   "outputs": [],
   "source": [
    "run_number=[]\n",
    "ratio_value=[]\n",
    "for filename in os.listdir(\"/fs/project/PAS0654/ARA_DATA/A23/10pct/other_studies/BasicInfo/A3/c2/\"):#Loop over desired directory\n",
    "    if filename.endswith(\".root\"): #extension, .root in this case\n",
    "        f = ROOT.TFile.Open(os.path.join(\"/fs/project/PAS0654/ARA_DATA/A23/10pct/other_studies/BasicInfo/A3/c2/\", str(filename)))\n",
    "        numEntries=f.outTree.GetEntries()\n",
    "#         print(f.outTree.runNum)\n",
    "        if numEntries==0:\n",
    "            continue\n",
    "        f.outTree.GetEntry(0)\n",
    "        if(f.outTree.isKnownBadRun)>0:\n",
    "            continue\n",
    "#         if(f.outTree.runNum<3550 or f.outTree.runNum >4000):\n",
    "#             continue\n",
    "        num_soft=0\n",
    "        f.outTree.GetEntry(0)\n",
    "        run_number.append(f.outTree.runNum)#Get run number\n",
    "        for entry in f.outTree:\n",
    "            if entry.isSoft>0:\n",
    "                num_soft+=1\n",
    "        #print(num_calpul)\n",
    "        ratio_value.append(float(num_soft/numEntries))\n"
   ]
  },
  {
   "cell_type": "code",
   "execution_count": null,
   "metadata": {},
   "outputs": [],
   "source": [
    "plt.scatter(run_number,ratio_value)\n",
    "# plt.xlim(1400,2000)"
   ]
  },
  {
   "cell_type": "code",
   "execution_count": null,
   "metadata": {},
   "outputs": [],
   "source": [
    "run_number"
   ]
  },
  {
   "cell_type": "code",
   "execution_count": null,
   "metadata": {},
   "outputs": [],
   "source": []
  }
 ],
 "metadata": {
  "kernelspec": {
   "display_name": "Python 3.6 (Conda 5.2) [python/3.6-conda5.2]",
   "language": "python",
   "name": "sys_python36conda"
  },
  "language_info": {
   "codemirror_mode": {
    "name": "ipython",
    "version": 3
   },
   "file_extension": ".py",
   "mimetype": "text/x-python",
   "name": "python",
   "nbconvert_exporter": "python",
   "pygments_lexer": "ipython3",
   "version": "3.6.6"
  }
 },
 "nbformat": 4,
 "nbformat_minor": 2
}
