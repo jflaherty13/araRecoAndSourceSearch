{
 "cells": [
  {
   "cell_type": "code",
   "execution_count": 2,
   "metadata": {},
   "outputs": [],
   "source": [
    "import sys\n",
    "sys.path.append(\"/users/PAS0654/osu8354/root6_14_build/lib\") # go to parent dir\n",
    "sys.path.append(\"/users/PCON0003/cond0068/.local/lib/python2.7/site-packages\")\n",
    "import ROOT\n",
    "import math\n",
    "import numpy as np\n",
    "from ROOT import TH1D,TF1, gRandom, gPad, gStyle\n",
    "import matplotlib.pyplot as plt\n",
    "from ROOT import TChain, TSelector, TTree\n",
    "import os\n",
    "\n",
    "\n",
    "import pandas as pd"
   ]
  },
  {
   "cell_type": "code",
   "execution_count": null,
   "metadata": {},
   "outputs": [],
   "source": [
    "file_list\n",
    "for filename in os.listdir(\"/fs/project/PAS0654/ARA_DATA/A23/10pct_redo/ProcessedFile/A3/2013/\"):#Loop over desired directory\n",
    "    if filename.endswith(\"85_filter.root\"): #extension, .root in this case\n",
    "        print(os.path.join(\"/fs/project/PAS0654/ARA_DATA/A23/10pct_redo/ProcessedFile/A3/2013/\", str(filename)))\n",
    "        #run_number.append(filename.rsplit(\"_\",2)[-2].split(\".\")[0])#Get run number\n",
    "        file_list.append(os.path.join(\"/fs/project/PAS0654/ARA_DATA/A23/10pct_redo/ProcessedFile/A3/2013/\", str(filename))) #add file name to the list"
   ]
  },
  {
   "cell_type": "code",
   "execution_count": null,
   "metadata": {},
   "outputs": [],
   "source": [
    "run_number=np.array(run_number,float)"
   ]
  },
  {
   "cell_type": "code",
   "execution_count": null,
   "metadata": {},
   "outputs": [],
   "source": [
    "chain = TChain(\"OutputTree\") #Define chain and tree that needs to be read. \n",
    "for line in file_list:\n",
    "    chain.AddFile(line) #Add files to chain"
   ]
  },
  {
   "cell_type": "code",
   "execution_count": null,
   "metadata": {},
   "outputs": [],
   "source": [
    "unixTime=[]\n",
    "isCalpulser=[]\n",
    "for entry in chain:      \n",
    "    unixTime.append(entry.unixTime)\n",
    "    isCalpulser.append(entry.isCalpulser)"
   ]
  },
  {
   "cell_type": "code",
   "execution_count": null,
   "metadata": {},
   "outputs": [],
   "source": [
    "plt.plot(unixTime,isCalpulser)"
   ]
  },
  {
   "cell_type": "code",
   "execution_count": null,
   "metadata": {},
   "outputs": [],
   "source": [
    "plt.hist(run_number)"
   ]
  },
  {
   "cell_type": "markdown",
   "metadata": {},
   "source": [
    "# Get ratio of calpulser to normal events per run"
   ]
  },
  {
   "cell_type": "code",
   "execution_count": null,
   "metadata": {},
   "outputs": [],
   "source": [
    "run_number=[]\n",
    "ratio_value=[]\n",
    "\n",
    "for filename in os.listdir(\"/fs/project/PAS0654/ARA_DATA/A23/10pct_redo/ProcessedFile/A3/by_config/c5/\"):#Loop over desired directory\n",
    "    if filename.endswith(\"_filter.root\"): #extension, .root in this case\n",
    "        f = ROOT.TFile.Open(os.path.join(\"/fs/project/PAS0654/ARA_DATA/A23/10pct_redo/ProcessedFile/A3/by_config/c5/\", str(filename)))\n",
    "        numEntries=f.OutputTree.GetEntries()\n",
    "        if numEntries==0:\n",
    "            continue\n",
    "        num_calpul=0\n",
    "        for entry in f.OutputTree:\n",
    "            if entry.isCalpulser>0:\n",
    "                num_calpul+=1\n",
    "        #print(num_calpul)\n",
    "        run_number.append(int(filename.rsplit(\"_\",2)[-2].split(\".\")[0]))#Get run number\n",
    "        ratio_value.append(float(num_calpul/numEntries))\n",
    "            \n",
    "          "
   ]
  },
  {
   "cell_type": "markdown",
   "metadata": {},
   "source": [
    "## Save to CSV file"
   ]
  },
  {
   "cell_type": "code",
   "execution_count": null,
   "metadata": {},
   "outputs": [],
   "source": [
    "data = {'Run Number':run_number, \"Ratio\":ratio_value}\n",
    "df = pd.DataFrame(data) \n",
    "df = df.sort_values(by=['Run Number'])\n",
    "df = df[df[\"Ratio\"]<=0.03]\n",
    "df=df.round(3)\n",
    "df.to_csv (r'/users/PCON0003/cond0068/ARA/AraRoot/analysis/a23_analysis_tools/A3_c5_untagged_calpul.csv', index = None, header=True)\n",
    "#df"
   ]
  },
  {
   "cell_type": "code",
   "execution_count": null,
   "metadata": {},
   "outputs": [],
   "source": [
    "plt.plot(run_number,ratio_value, \"o\", markersize=1)\n",
    "# plt.xlim(1800,4000)\n",
    "plt.ylabel(\"#calpulsers/#events\")\n",
    "plt.xlabel(\"Run number\")\n",
    "plt.title(\"Ratio of calpulser events to total events, c5\")\n",
    "plt.tight_layout()\n",
    "#plt.xlim(1400,2000)\n",
    "plt.savefig(\"calpulsers_c5.png\", dpi=200)"
   ]
  },
  {
   "cell_type": "markdown",
   "metadata": {},
   "source": [
    "# Get 2D plot of rms per run"
   ]
  },
  {
   "cell_type": "code",
   "execution_count": null,
   "metadata": {},
   "outputs": [],
   "source": [
    "colnames={'rms_ch0': [],\n",
    " 'rms_ch1': [],\n",
    " 'rms_ch2': [],\n",
    " 'rms_ch3': [],\n",
    " 'rms_ch4': [],\n",
    " 'rms_ch5': [],\n",
    " 'rms_ch6': [],\n",
    " 'rms_ch7': [],\n",
    " 'rms_ch8': [],\n",
    " 'rms_ch9': [],\n",
    " 'rms_ch10': [],\n",
    " 'rms_ch11': [],\n",
    " 'rms_ch12': [],\n",
    " 'rms_ch13': [],\n",
    " 'rms_ch14': [],\n",
    " 'rms_ch15': []}\n",
    "# colnames[\"rms_ch1\"].append(0)\n",
    "colnames"
   ]
  },
  {
   "cell_type": "code",
   "execution_count": null,
   "metadata": {
    "scrolled": false
   },
   "outputs": [],
   "source": [
    "colnames={'rms_ch0': [],\n",
    " 'rms_ch1': [],\n",
    " 'rms_ch2': [],\n",
    " 'rms_ch3': [],\n",
    " 'rms_ch4': [],\n",
    " 'rms_ch5': [],\n",
    " 'rms_ch6': [],\n",
    " 'rms_ch7': [],\n",
    " 'rms_ch8': [],\n",
    " 'rms_ch9': [],\n",
    " 'rms_ch10': [],\n",
    " 'rms_ch11': [],\n",
    " 'rms_ch12': [],\n",
    " 'rms_ch13': [],\n",
    " 'rms_ch14': [],\n",
    " 'rms_ch15': []}\n",
    "run_numbers=[]\n",
    "# colnames=dict.fromkeys([\"rms_ch{0}\".format(x) for x in range(0,16)],[])\n",
    "\n",
    "for filename in os.listdir(\"/fs/project/PAS0654/ARA_DATA/A23/10pct/other_studies/BasicInfo/A3/c1/\"):#Loop over desired directory\n",
    "    if filename.endswith(\".root\"): #extension, .root in this case\n",
    "        f = ROOT.TFile.Open(os.path.join(\"/fs/project/PAS0654/ARA_DATA/A23/10pct/other_studies/BasicInfo/A3/c1/\", str(filename)))\n",
    "        numEntries=f.outTree.GetEntries()\n",
    "        if numEntries==0:\n",
    "            continue\n",
    "        for entry in f.outTree:\n",
    "            run_numbers.append(f.outTree.runNum)\n",
    "            for i in range(0,16):\n",
    "#                 print(f.outTree.deepChannelRMS[i])\n",
    "                colnames[\"rms_ch{0}\".format(i)].append(f.outTree.deepChannelRMS[i])\n",
    "            \n",
    "            \n",
    "            \n",
    "            \n",
    "            \n",
    "            "
   ]
  },
  {
   "cell_type": "code",
   "execution_count": null,
   "metadata": {},
   "outputs": [],
   "source": [
    "plt.hist2d(run_numbers,colnames['rms_ch0']);"
   ]
  },
  {
   "cell_type": "code",
   "execution_count": null,
   "metadata": {},
   "outputs": [],
   "source": [
    "cmap = plt.get_cmap('PiYG')\n",
    "cmap=plt.pcolormesh(xx, yy, zz,shading='gouraud', norm=colors.LogNorm(vmin=1E-9, vmax=1))\n",
    "plt.scatter(phi_calpul_v, th_calpul_v, s=2, facecolor=\"white\" )\n",
    "plt.colorbar(cmap,label='Probability density')"
   ]
  }
 ],
 "metadata": {
  "kernelspec": {
   "display_name": "Python 3.6 (Conda 5.2) [python/3.6-conda5.2]",
   "language": "python",
   "name": "sys_python36conda"
  },
  "language_info": {
   "codemirror_mode": {
    "name": "ipython",
    "version": 3
   },
   "file_extension": ".py",
   "mimetype": "text/x-python",
   "name": "python",
   "nbconvert_exporter": "python",
   "pygments_lexer": "ipython3",
   "version": "3.6.6"
  }
 },
 "nbformat": 4,
 "nbformat_minor": 2
}
