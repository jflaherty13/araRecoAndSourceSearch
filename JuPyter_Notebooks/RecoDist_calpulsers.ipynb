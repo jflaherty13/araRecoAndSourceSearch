{
 "cells": [
  {
   "cell_type": "code",
   "execution_count": null,
   "metadata": {},
   "outputs": [],
   "source": [
    "import sys\n",
    "sys.path.append(\"/users/PAS0654/osu8354/root6_14_build/lib\") # go to parent dir\n",
    "sys.path.append(\"/users/PCON0003/cond0068/.local/lib/python2.7/site-packages\")\n",
    "import uproot\n",
    "import ROOT\n",
    "import math\n",
    "import numpy as np\n",
    "from ROOT import TH1D,TF1, gRandom, gPad, gStyle\n",
    "import matplotlib.pyplot as plt\n",
    "from ROOT import TChain, TSelector, TTree\n",
    "import os"
   ]
  },
  {
   "cell_type": "code",
   "execution_count": null,
   "metadata": {},
   "outputs": [],
   "source": [
    "import util_analysis\n",
    "from util_analysis import isBadLivetime, isBadrun"
   ]
  },
  {
   "cell_type": "code",
   "execution_count": null,
   "metadata": {},
   "outputs": [],
   "source": [
    "run_number=[]\n",
    "# phi_v=[]\n",
    "# theta_v=[]\n",
    "# phi_h=[]\n",
    "# theta_h=[]\n",
    "peak_corr=[]\n",
    "numruns=0\n",
    "for filename in os.listdir(\"/fs/project/PAS0654/ARA_DATA/A23/10pct_redo/Joined/A3/by_config/c3/\"):#Loop over desired directory\n",
    "    if filename.endswith(\"3517_joined_bins_6_19.root\"):\n",
    "        continue\n",
    "    if filename.endswith(\".root\"): #extension, .root in this case\n",
    "        f = ROOT.TFile.Open(os.path.join(\"/fs/project/PAS0654/ARA_DATA/A23/10pct_redo/Joined/A3/by_config/c3/\", str(filename)))\n",
    "        numEntries=f.OutputTree_recoRadius_19.GetEntries()\n",
    "        if numEntries==0:\n",
    "            continue\n",
    "        f.OutputTree_recoRadius_19.GetEntry(0)\n",
    "        if(isBadrun(f.OutputTree_recoRadius_19.run)==True):\n",
    "            continue\n",
    "        numruns+=1\n",
    "        for entry in f.OutputTree_recoRadius_19:\n",
    "            if entry.isCalpulser==True or entry.isSoftTrigger==True:\n",
    "                continue\n",
    "            if isBadLivetime(3,entry.unixTime):\n",
    "                continue\n",
    "            run_number.append(entry.run)\n",
    "            peak_corr.append(entry.peakCorr_single[0])\n",
    "            \n",
    "#             theta_v.append(entry.peakTheta_single[0])\n",
    "#             phi_v.append(entry.peakPhi_single[0])\n",
    "#             theta_h.append(entry.peakTheta_single[1])\n",
    "#             phi_h.append(entry.peakPhi_single[1])\n",
    "            \n",
    "          "
   ]
  },
  {
   "cell_type": "code",
   "execution_count": 6,
   "metadata": {},
   "outputs": [
    {
     "data": {
      "image/png": "[encoded data removed]",
      "text/plain": [
       "<Figure size 432x288 with 2 Axes>"
      ]
     },
     "metadata": {},
     "output_type": "display_data"
    }
   ],
   "source": [
    "import matplotlib.colors as mcolors\n",
    "import matplotlib.pyplot as plt\n",
    "\n",
    "plt.hist2d(run_number,peak_corr,bins=[500,100],norm=mcolors.LogNorm(),cmap='RdBu',range=[[3000,8000],[0,0.04]])\n",
    "# ax[0,0].set_xlim(1400,1910)\n",
    "plt.title(\"A3/c3, 300 m peak correlation value\")\n",
    "plt.ylabel(\"Correlation value\")\n",
    "plt.xlabel(\"Run Number\")\n",
    "# plt.ylim(0,0.04)\n",
    "plt.colorbar()\n",
    "              \n",
    "plt.tight_layout()\n",
    "plt.savefig(\"/users/PCON0003/cond0068/ARA/A3_c3_reco_peakCorrVal.png\", dpi=200)"
   ]
  },
  {
   "cell_type": "code",
   "execution_count": null,
   "metadata": {},
   "outputs": [],
   "source": [
    "import matplotlib.colors as mcolors\n",
    "fig, ax = plt.subplots(nrows=2, ncols=2, figsize=(10, 5))\n",
    "\n",
    "phi_hist = ax[0,0].hist2d(run_number,phi_v,bins=[500,100],norm=mcolors.LogNorm(),cmap='RdBu')\n",
    "# ax[0,0].set_xlim(1400,1910)\n",
    "ax[0,0].set_title(\"A3/c5, 41 m reconstructed $\\phi$\")\n",
    "ax[0,0].set_ylabel(\"$\\phi$\")\n",
    "ax[0,0].set_xlabel(\"Run Number\")\n",
    "ax[0,0].set_ylim(-180,180)\n",
    "fig.colorbar(phi_hist[3],ax=ax[0,0])\n",
    "\n",
    "theta_hist = ax[0,1].hist2d(run_number,theta_v,bins=[500,50],norm=mcolors.LogNorm(),cmap='RdBu')\n",
    "# ax[0,1].set_xlim(1400,1910)\n",
    "ax[0,1].set_ylabel(\"$\\\\theta$\")\n",
    "ax[0,1].set_title(\"A3/c5, 41 m reconstructed $\\\\theta$\")\n",
    "ax[0,1].set_xlabel(\"Run Number\")\n",
    "ax[0,1].set_ylim(-90,90)\n",
    "fig.colorbar(theta_hist[3],ax=ax[0,1])\n",
    "\n",
    "phi_hist_zoomed = ax[1,0].hist2d(run_number,phi_v,bins=[500,360],norm=mcolors.LogNorm(),cmap='RdBu')\n",
    "# ax[1,0].set_xlim(1400,1910)\n",
    "ax[1,0].set_title(\"A3/c5, 41 m reconstructed $\\phi$, zoomed\")\n",
    "ax[1,0].set_ylabel(\"$\\phi$\")\n",
    "ax[1,0].set_xlabel(\"Run Number\")\n",
    "fig.colorbar(phi_hist_zoomed[3],ax=ax[1,0])\n",
    "ax[1,0].set_ylim(60,70)\n",
    "\n",
    "theta_hist_zoomed = ax[1,1].hist2d(run_number,theta_v,bins=[500,180],norm=mcolors.LogNorm(),cmap='RdBu')\n",
    "# ax[1,1].set_xlim(1400,1910)\n",
    "ax[1,1].set_ylabel(\"$\\\\theta$\")\n",
    "ax[1,1].set_title(\"A3/c5, 41 m reconstructed $\\\\theta$, zoomed\")\n",
    "ax[1,1].set_xlabel(\"Run Number\")\n",
    "ax[1,1].set_ylim(-20,-10)\n",
    "fig.colorbar(theta_hist_zoomed[3],ax=ax[1,1])\n",
    "\n",
    "fig.tight_layout()\n",
    "fig.savefig(\"/users/PCON0003/cond0068/ARA/A3_c5_reco_calpulsers.png\", dpi=200)"
   ]
  },
  {
   "cell_type": "code",
   "execution_count": null,
   "metadata": {},
   "outputs": [],
   "source": [
    "f = ROOT.TFile.Open(\"/fs/scratch/PAS0654/ara/10pct/Joined/A3/2015/processed_station_3_run_3949_joined_bins_6_19.root\")"
   ]
  },
  {
   "cell_type": "code",
   "execution_count": null,
   "metadata": {},
   "outputs": [],
   "source": [
    "f.ls()\n"
   ]
  },
  {
   "cell_type": "code",
   "execution_count": null,
   "metadata": {},
   "outputs": [],
   "source": [
    "isBadrun(f.OutputTree_recoRadius_6.run)"
   ]
  },
  {
   "cell_type": "code",
   "execution_count": null,
   "metadata": {},
   "outputs": [],
   "source": [
    "isBadLivetime(3,entry.unixTime)"
   ]
  },
  {
   "cell_type": "code",
   "execution_count": null,
   "metadata": {},
   "outputs": [],
   "source": []
  }
 ],
 "metadata": {
  "kernelspec": {
   "display_name": "Python 3.6 (Conda 5.2) [python/3.6-conda5.2]",
   "language": "python",
   "name": "sys_python36conda"
  },
  "language_info": {
   "codemirror_mode": {
    "name": "ipython",
    "version": 3
   },
   "file_extension": ".py",
   "mimetype": "text/x-python",
   "name": "python",
   "nbconvert_exporter": "python",
   "pygments_lexer": "ipython3",
   "version": "3.6.6"
  }
 },
 "nbformat": 4,
 "nbformat_minor": 2
}
