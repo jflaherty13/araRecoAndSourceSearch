{
 "cells": [
  {
   "cell_type": "code",
   "execution_count": 1,
   "metadata": {},
   "outputs": [
    {
     "name": "stdout",
     "output_type": "stream",
     "text": [
      "Welcome to JupyROOT 6.18/04\n"
     ]
    }
   ],
   "source": [
    "import sys\n",
    "sys.path.append(\"/cvmfs/ara.opensciencegrid.org/trunk/centos7/source/ARA_cvmfs/root_build/lib/\") # go to parent dir\n",
    "# sys.path.append(\"/users/PCON0003/cond0068/.local/lib/python2.7/site-packages\")\n",
    "import ROOT\n",
    "import math\n",
    "import numpy as np\n",
    "from ROOT import TH1D,TF1, gRandom, gPad, gStyle\n",
    "import matplotlib.pyplot as plt\n",
    "from ROOT import TChain, TSelector, TTree, TCanvas\n",
    "import os\n",
    "import matplotlib.colors as mcolors"
   ]
  },
  {
   "cell_type": "code",
   "execution_count": 116,
   "metadata": {},
   "outputs": [],
   "source": [
    "f = ROOT.TFile.Open(\"Stokes_par_run2674_pair0and8_powerRatio.root\")"
   ]
  },
  {
   "cell_type": "code",
   "execution_count": 117,
   "metadata": {},
   "outputs": [
    {
     "name": "stdout",
     "output_type": "stream",
     "text": [
      "******************************************************************************\n",
      "*Tree    :Stokes    : Stokes                                                 *\n",
      "*Entries :     5000 : Total =           46599 bytes  File  Size =      39402 *\n",
      "*        :          : Tree compression factor =   1.16                       *\n",
      "******************************************************************************\n",
      "*Br    0 :isCalpulser : isCalpulser/O                                        *\n",
      "*Entries :     5000 : Total  Size=       5583 bytes  File Size  =        863 *\n",
      "*Baskets :        1 : Basket Size=      32000 bytes  Compression=   5.89     *\n",
      "*............................................................................*\n",
      "*Br    1 :polAngle  : polAngle/D                                             *\n",
      "*Entries :     5000 : Total  Size=      40659 bytes  File Size  =      38026 *\n",
      "*Baskets :        2 : Basket Size=      32000 bytes  Compression=   1.06     *\n",
      "*............................................................................*\n"
     ]
    }
   ],
   "source": [
    "StokesBranch = f.Stokes\n",
    "StokesBranch.Print()"
   ]
  },
  {
   "cell_type": "code",
   "execution_count": 118,
   "metadata": {},
   "outputs": [
    {
     "name": "stderr",
     "output_type": "stream",
     "text": [
      "Warning in <TCanvas::Constructor>: Deleting canvas with same name: c1\n"
     ]
    },
    {
     "data": {
      "image/png": "[encoded data removed]",
      "text/plain": [
       "<IPython.core.display.Image object>"
      ]
     },
     "metadata": {},
     "output_type": "display_data"
    }
   ],
   "source": [
    "c1 = TCanvas( \"c1\", \"\", 200*2, 20, 700*2, 500 )\n",
    "c1.Divide(2,1)\n",
    "c1.cd(1)\n",
    "StokesBranch.Draw(\"polAngle\",\"isCalpulser==0\")\n",
    "c1.cd(2)\n",
    "StokesBranch.Draw(\"polAngle\",\"isCalpulser==1\")\n",
    "c1.Draw()\n"
   ]
  },
  {
   "cell_type": "code",
   "execution_count": 1,
   "metadata": {},
   "outputs": [],
   "source": [
    "import datetime\n",
    "import logging\n",
    "import os\n",
    "import os.path\n",
    "import re\n",
    "import numpy as np"
   ]
  },
  {
   "cell_type": "code",
   "execution_count": 7,
   "metadata": {},
   "outputs": [],
   "source": [
    "filename = \"/fs/project/PAS0654/ARA_DATA/A23/100pct/RawData/A2/2014/0628/run003826/event003826.root\"\n",
    "basename = os.path.basename(filename)"
   ]
  },
  {
   "cell_type": "code",
   "execution_count": 8,
   "metadata": {},
   "outputs": [],
   "source": [
    "number = basename.lstrip('event0').rstrip('.rot')"
   ]
  },
  {
   "cell_type": "code",
   "execution_count": 10,
   "metadata": {},
   "outputs": [
    {
     "data": {
      "text/plain": [
       "3826"
      ]
     },
     "execution_count": 10,
     "metadata": {},
     "output_type": "execute_result"
    }
   ],
   "source": [
    "int(number)"
   ]
  },
  {
   "cell_type": "code",
   "execution_count": null,
   "metadata": {},
   "outputs": [],
   "source": []
  }
 ],
 "metadata": {
  "kernelspec": {
   "display_name": "Python 3.6 (Conda 5.2) [python/3.6-conda5.2]",
   "language": "python",
   "name": "sys_python36conda"
  },
  "language_info": {
   "codemirror_mode": {
    "name": "ipython",
    "version": 3
   },
   "file_extension": ".py",
   "mimetype": "text/x-python",
   "name": "python",
   "nbconvert_exporter": "python",
   "pygments_lexer": "ipython3",
   "version": "3.6.6"
  }
 },
 "nbformat": 4,
 "nbformat_minor": 2
}
