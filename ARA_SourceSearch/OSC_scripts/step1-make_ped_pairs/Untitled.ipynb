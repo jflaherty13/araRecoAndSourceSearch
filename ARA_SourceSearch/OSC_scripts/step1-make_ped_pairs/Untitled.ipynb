{
 "cells": [
  {
   "cell_type": "code",
   "execution_count": 76,
   "metadata": {},
   "outputs": [],
   "source": [
    "import os\n",
    "import csv, subprocess\n",
    "import pandas as pd"
   ]
  },
  {
   "cell_type": "code",
   "execution_count": 78,
   "metadata": {},
   "outputs": [],
   "source": [
    "project = \"PAS0654\" #\"PCON0003\"\n",
    "station = 2\n",
    "year = 2013\n",
    "isSim = 0\n",
    "anaFolder = os.path.expanduser('/users/PAS0654/osu8354/ARA_cvmfs/source/AraRoot/analysis/ARA_analysis/ARA_SourceSearch/')\n",
    "step1_makePairs = anaFolder + \"OSC_scripts/step1-make_ped_pairs/\"\n",
    "outputDir = \"/fs/project/PAS0654/ARA_DATA/A23/10pctCalibBugFix/RunSummary/A%i/%i\"%(station, year)\n"
   ]
  },
  {
   "cell_type": "code",
   "execution_count": 80,
   "metadata": {},
   "outputs": [
    {
     "name": "stdout",
     "output_type": "stream",
     "text": [
      "/users/PAS0654/osu8354/ARA_cvmfs/source/AraRoot/analysis/ARA_analysis/ARA_SourceSearch/OSC_scripts/step1-make_ped_pairs/A2_2013_File_Ped_Pairs.txt\n"
     ]
    }
   ],
   "source": [
    "file = step1_makePairs+\"A%i_%i_File_Ped_Pairs.txt\"%(station,year)\n",
    "print(file)"
   ]
  },
  {
   "cell_type": "code",
   "execution_count": 114,
   "metadata": {},
   "outputs": [
    {
     "name": "stdout",
     "output_type": "stream",
     "text": [
      "sbatch --job-name=makeSummary_1449_2013 --output=./logs/2013_makeSummary_1449.out --account=PAS0654 --export=ISSIM=0,STATION=2,DATA=/fs/scratch/PAS0654/jorge/ARA_data/10pct/A2/2013/run1449/event1449.root,PEDESTAL=,OUTDIR=/fs/project/PAS0654/ARA_DATA/A23/10pctCalibBugFix/RunSummary/A2/2013 runOSC.sh\n"
     ]
    }
   ],
   "source": [
    "with open(file, mode='r', newline='', encoding='utf-8-sig') as csvfile:\n",
    "    reader = csv.reader(csvfile)\n",
    "    for job in reader:\n",
    "        split = os.path.split(job[0])\n",
    "        run = os.path.splitext(split[1])[0].strip(\"event\")\n",
    "        dataFile = job[0]\n",
    "        # else:\n",
    "        #     dataFile =\n",
    "        submit_command = (\"sbatch \"\n",
    "                    \"--job-name=makeSummary_{0}_{7} --output=./logs/{7}_makeSummary_{0}.out --account={6} \"\n",
    "                    \"--export=ISSIM={1},STATION={2},DATA={3},PEDESTAL={4},OUTDIR={5} runOSC.sh\").format(run,isSim,station,dataFile,job[1],outputDir, project, year)\n",
    "        print(submit_command)\n",
    "\n",
    "        # print(\"Submitted run%s\"%run)\n",
    "#         exit_status = subprocess.call(submit_command, shell=True)\n",
    "#         if exit_status is 1:  # Check to make sure the job submitted\n",
    "#             print(\"Job {0} failed to submit\".format(submit_command))\n",
    "        break"
   ]
  },
  {
   "cell_type": "code",
   "execution_count": 41,
   "metadata": {},
   "outputs": [
    {
     "data": {
      "text/plain": [
       "'/fs/scratch/PAS0654/jorge/ARA_data/10pct/A2/2013/run1449/event1449.root'"
      ]
     },
     "execution_count": 41,
     "metadata": {},
     "output_type": "execute_result"
    }
   ],
   "source": [
    "job[0]"
   ]
  },
  {
   "cell_type": "markdown",
   "metadata": {},
   "source": [
    "# Nested"
   ]
  },
  {
   "cell_type": "code",
   "execution_count": 109,
   "metadata": {},
   "outputs": [],
   "source": [
    "cores = 6"
   ]
  },
  {
   "cell_type": "code",
   "execution_count": 127,
   "metadata": {},
   "outputs": [
    {
     "name": "stdout",
     "output_type": "stream",
     "text": [
      "sbatch --job-name=makeSummary_0_2013 --nodes=1 --ntasks-per-node=6 --output=./logs/2013_makeSummary_0.out --account=PAS0654 --export=ISSIM=0,STATION=2,OUTDIR=/fs/project/PAS0654/ARA_DATA/A23/10pctCalibBugFix/RunSummary/A2/2013,YEAR=2013 tmpScipts/A2_2013_tmpSubmit_0.sh\n",
      "sbatch --job-name=makeSummary_1_2013 --nodes=1 --ntasks-per-node=6 --output=./logs/2013_makeSummary_1.out --account=PAS0654 --export=ISSIM=0,STATION=2,OUTDIR=/fs/project/PAS0654/ARA_DATA/A23/10pctCalibBugFix/RunSummary/A2/2013,YEAR=2013 tmpScipts/A2_2013_tmpSubmit_1.sh\n",
      "sbatch --job-name=makeSummary_2_2013 --nodes=1 --ntasks-per-node=6 --output=./logs/2013_makeSummary_2.out --account=PAS0654 --export=ISSIM=0,STATION=2,OUTDIR=/fs/project/PAS0654/ARA_DATA/A23/10pctCalibBugFix/RunSummary/A2/2013,YEAR=2013 tmpScipts/A2_2013_tmpSubmit_2.sh\n",
      "sbatch --job-name=makeSummary_3_2013 --nodes=1 --ntasks-per-node=6 --output=./logs/2013_makeSummary_3.out --account=PAS0654 --export=ISSIM=0,STATION=2,OUTDIR=/fs/project/PAS0654/ARA_DATA/A23/10pctCalibBugFix/RunSummary/A2/2013,YEAR=2013 tmpScipts/A2_2013_tmpSubmit_3.sh\n",
      "sbatch --job-name=makeSummary_4_2013 --nodes=1 --ntasks-per-node=6 --output=./logs/2013_makeSummary_4.out --account=PAS0654 --export=ISSIM=0,STATION=2,OUTDIR=/fs/project/PAS0654/ARA_DATA/A23/10pctCalibBugFix/RunSummary/A2/2013,YEAR=2013 tmpScipts/A2_2013_tmpSubmit_4.sh\n",
      "sbatch --job-name=makeSummary_5_2013 --nodes=1 --ntasks-per-node=6 --output=./logs/2013_makeSummary_5.out --account=PAS0654 --export=ISSIM=0,STATION=2,OUTDIR=/fs/project/PAS0654/ARA_DATA/A23/10pctCalibBugFix/RunSummary/A2/2013,YEAR=2013 tmpScipts/A2_2013_tmpSubmit_5.sh\n",
      "sbatch --job-name=makeSummary_6_2013 --nodes=1 --ntasks-per-node=6 --output=./logs/2013_makeSummary_6.out --account=PAS0654 --export=ISSIM=0,STATION=2,OUTDIR=/fs/project/PAS0654/ARA_DATA/A23/10pctCalibBugFix/RunSummary/A2/2013,YEAR=2013 tmpScipts/A2_2013_tmpSubmit_6.sh\n",
      "sbatch --job-name=makeSummary_7_2013 --nodes=1 --ntasks-per-node=6 --output=./logs/2013_makeSummary_7.out --account=PAS0654 --export=ISSIM=0,STATION=2,OUTDIR=/fs/project/PAS0654/ARA_DATA/A23/10pctCalibBugFix/RunSummary/A2/2013,YEAR=2013 tmpScipts/A2_2013_tmpSubmit_7.sh\n",
      "sbatch --job-name=makeSummary_8_2013 --nodes=1 --ntasks-per-node=6 --output=./logs/2013_makeSummary_8.out --account=PAS0654 --export=ISSIM=0,STATION=2,OUTDIR=/fs/project/PAS0654/ARA_DATA/A23/10pctCalibBugFix/RunSummary/A2/2013,YEAR=2013 tmpScipts/A2_2013_tmpSubmit_8.sh\n",
      "sbatch --job-name=makeSummary_9_2013 --nodes=1 --ntasks-per-node=6 --output=./logs/2013_makeSummary_9.out --account=PAS0654 --export=ISSIM=0,STATION=2,OUTDIR=/fs/project/PAS0654/ARA_DATA/A23/10pctCalibBugFix/RunSummary/A2/2013,YEAR=2013 tmpScipts/A2_2013_tmpSubmit_9.sh\n",
      "sbatch --job-name=makeSummary_10_2013 --nodes=1 --ntasks-per-node=6 --output=./logs/2013_makeSummary_10.out --account=PAS0654 --export=ISSIM=0,STATION=2,OUTDIR=/fs/project/PAS0654/ARA_DATA/A23/10pctCalibBugFix/RunSummary/A2/2013,YEAR=2013 tmpScipts/A2_2013_tmpSubmit_10.sh\n",
      "sbatch --job-name=makeSummary_11_2013 --nodes=1 --ntasks-per-node=6 --output=./logs/2013_makeSummary_11.out --account=PAS0654 --export=ISSIM=0,STATION=2,OUTDIR=/fs/project/PAS0654/ARA_DATA/A23/10pctCalibBugFix/RunSummary/A2/2013,YEAR=2013 tmpScipts/A2_2013_tmpSubmit_11.sh\n",
      "sbatch --job-name=makeSummary_12_2013 --nodes=1 --ntasks-per-node=6 --output=./logs/2013_makeSummary_12.out --account=PAS0654 --export=ISSIM=0,STATION=2,OUTDIR=/fs/project/PAS0654/ARA_DATA/A23/10pctCalibBugFix/RunSummary/A2/2013,YEAR=2013 tmpScipts/A2_2013_tmpSubmit_12.sh\n",
      "sbatch --job-name=makeSummary_13_2013 --nodes=1 --ntasks-per-node=6 --output=./logs/2013_makeSummary_13.out --account=PAS0654 --export=ISSIM=0,STATION=2,OUTDIR=/fs/project/PAS0654/ARA_DATA/A23/10pctCalibBugFix/RunSummary/A2/2013,YEAR=2013 tmpScipts/A2_2013_tmpSubmit_13.sh\n",
      "sbatch --job-name=makeSummary_14_2013 --nodes=1 --ntasks-per-node=6 --output=./logs/2013_makeSummary_14.out --account=PAS0654 --export=ISSIM=0,STATION=2,OUTDIR=/fs/project/PAS0654/ARA_DATA/A23/10pctCalibBugFix/RunSummary/A2/2013,YEAR=2013 tmpScipts/A2_2013_tmpSubmit_14.sh\n",
      "sbatch --job-name=makeSummary_15_2013 --nodes=1 --ntasks-per-node=6 --output=./logs/2013_makeSummary_15.out --account=PAS0654 --export=ISSIM=0,STATION=2,OUTDIR=/fs/project/PAS0654/ARA_DATA/A23/10pctCalibBugFix/RunSummary/A2/2013,YEAR=2013 tmpScipts/A2_2013_tmpSubmit_15.sh\n",
      "sbatch --job-name=makeSummary_16_2013 --nodes=1 --ntasks-per-node=6 --output=./logs/2013_makeSummary_16.out --account=PAS0654 --export=ISSIM=0,STATION=2,OUTDIR=/fs/project/PAS0654/ARA_DATA/A23/10pctCalibBugFix/RunSummary/A2/2013,YEAR=2013 tmpScipts/A2_2013_tmpSubmit_16.sh\n",
      "sbatch --job-name=makeSummary_17_2013 --nodes=1 --ntasks-per-node=6 --output=./logs/2013_makeSummary_17.out --account=PAS0654 --export=ISSIM=0,STATION=2,OUTDIR=/fs/project/PAS0654/ARA_DATA/A23/10pctCalibBugFix/RunSummary/A2/2013,YEAR=2013 tmpScipts/A2_2013_tmpSubmit_17.sh\n",
      "sbatch --job-name=makeSummary_18_2013 --nodes=1 --ntasks-per-node=6 --output=./logs/2013_makeSummary_18.out --account=PAS0654 --export=ISSIM=0,STATION=2,OUTDIR=/fs/project/PAS0654/ARA_DATA/A23/10pctCalibBugFix/RunSummary/A2/2013,YEAR=2013 tmpScipts/A2_2013_tmpSubmit_18.sh\n",
      "sbatch --job-name=makeSummary_19_2013 --nodes=1 --ntasks-per-node=6 --output=./logs/2013_makeSummary_19.out --account=PAS0654 --export=ISSIM=0,STATION=2,OUTDIR=/fs/project/PAS0654/ARA_DATA/A23/10pctCalibBugFix/RunSummary/A2/2013,YEAR=2013 tmpScipts/A2_2013_tmpSubmit_19.sh\n",
      "sbatch --job-name=makeSummary_20_2013 --nodes=1 --ntasks-per-node=6 --output=./logs/2013_makeSummary_20.out --account=PAS0654 --export=ISSIM=0,STATION=2,OUTDIR=/fs/project/PAS0654/ARA_DATA/A23/10pctCalibBugFix/RunSummary/A2/2013,YEAR=2013 tmpScipts/A2_2013_tmpSubmit_20.sh\n",
      "sbatch --job-name=makeSummary_21_2013 --nodes=1 --ntasks-per-node=6 --output=./logs/2013_makeSummary_21.out --account=PAS0654 --export=ISSIM=0,STATION=2,OUTDIR=/fs/project/PAS0654/ARA_DATA/A23/10pctCalibBugFix/RunSummary/A2/2013,YEAR=2013 tmpScipts/A2_2013_tmpSubmit_21.sh\n",
      "sbatch --job-name=makeSummary_22_2013 --nodes=1 --ntasks-per-node=6 --output=./logs/2013_makeSummary_22.out --account=PAS0654 --export=ISSIM=0,STATION=2,OUTDIR=/fs/project/PAS0654/ARA_DATA/A23/10pctCalibBugFix/RunSummary/A2/2013,YEAR=2013 tmpScipts/A2_2013_tmpSubmit_22.sh\n",
      "sbatch --job-name=makeSummary_23_2013 --nodes=1 --ntasks-per-node=6 --output=./logs/2013_makeSummary_23.out --account=PAS0654 --export=ISSIM=0,STATION=2,OUTDIR=/fs/project/PAS0654/ARA_DATA/A23/10pctCalibBugFix/RunSummary/A2/2013,YEAR=2013 tmpScipts/A2_2013_tmpSubmit_23.sh\n",
      "sbatch --job-name=makeSummary_24_2013 --nodes=1 --ntasks-per-node=6 --output=./logs/2013_makeSummary_24.out --account=PAS0654 --export=ISSIM=0,STATION=2,OUTDIR=/fs/project/PAS0654/ARA_DATA/A23/10pctCalibBugFix/RunSummary/A2/2013,YEAR=2013 tmpScipts/A2_2013_tmpSubmit_24.sh\n",
      "sbatch --job-name=makeSummary_25_2013 --nodes=1 --ntasks-per-node=6 --output=./logs/2013_makeSummary_25.out --account=PAS0654 --export=ISSIM=0,STATION=2,OUTDIR=/fs/project/PAS0654/ARA_DATA/A23/10pctCalibBugFix/RunSummary/A2/2013,YEAR=2013 tmpScipts/A2_2013_tmpSubmit_25.sh\n",
      "sbatch --job-name=makeSummary_26_2013 --nodes=1 --ntasks-per-node=6 --output=./logs/2013_makeSummary_26.out --account=PAS0654 --export=ISSIM=0,STATION=2,OUTDIR=/fs/project/PAS0654/ARA_DATA/A23/10pctCalibBugFix/RunSummary/A2/2013,YEAR=2013 tmpScipts/A2_2013_tmpSubmit_26.sh\n",
      "sbatch --job-name=makeSummary_27_2013 --nodes=1 --ntasks-per-node=6 --output=./logs/2013_makeSummary_27.out --account=PAS0654 --export=ISSIM=0,STATION=2,OUTDIR=/fs/project/PAS0654/ARA_DATA/A23/10pctCalibBugFix/RunSummary/A2/2013,YEAR=2013 tmpScipts/A2_2013_tmpSubmit_27.sh\n",
      "sbatch --job-name=makeSummary_28_2013 --nodes=1 --ntasks-per-node=6 --output=./logs/2013_makeSummary_28.out --account=PAS0654 --export=ISSIM=0,STATION=2,OUTDIR=/fs/project/PAS0654/ARA_DATA/A23/10pctCalibBugFix/RunSummary/A2/2013,YEAR=2013 tmpScipts/A2_2013_tmpSubmit_28.sh\n",
      "sbatch --job-name=makeSummary_29_2013 --nodes=1 --ntasks-per-node=6 --output=./logs/2013_makeSummary_29.out --account=PAS0654 --export=ISSIM=0,STATION=2,OUTDIR=/fs/project/PAS0654/ARA_DATA/A23/10pctCalibBugFix/RunSummary/A2/2013,YEAR=2013 tmpScipts/A2_2013_tmpSubmit_29.sh\n",
      "sbatch --job-name=makeSummary_30_2013 --nodes=1 --ntasks-per-node=6 --output=./logs/2013_makeSummary_30.out --account=PAS0654 --export=ISSIM=0,STATION=2,OUTDIR=/fs/project/PAS0654/ARA_DATA/A23/10pctCalibBugFix/RunSummary/A2/2013,YEAR=2013 tmpScipts/A2_2013_tmpSubmit_30.sh\n",
      "sbatch --job-name=makeSummary_31_2013 --nodes=1 --ntasks-per-node=6 --output=./logs/2013_makeSummary_31.out --account=PAS0654 --export=ISSIM=0,STATION=2,OUTDIR=/fs/project/PAS0654/ARA_DATA/A23/10pctCalibBugFix/RunSummary/A2/2013,YEAR=2013 tmpScipts/A2_2013_tmpSubmit_31.sh\n",
      "sbatch --job-name=makeSummary_32_2013 --nodes=1 --ntasks-per-node=6 --output=./logs/2013_makeSummary_32.out --account=PAS0654 --export=ISSIM=0,STATION=2,OUTDIR=/fs/project/PAS0654/ARA_DATA/A23/10pctCalibBugFix/RunSummary/A2/2013,YEAR=2013 tmpScipts/A2_2013_tmpSubmit_32.sh\n",
      "sbatch --job-name=makeSummary_33_2013 --nodes=1 --ntasks-per-node=6 --output=./logs/2013_makeSummary_33.out --account=PAS0654 --export=ISSIM=0,STATION=2,OUTDIR=/fs/project/PAS0654/ARA_DATA/A23/10pctCalibBugFix/RunSummary/A2/2013,YEAR=2013 tmpScipts/A2_2013_tmpSubmit_33.sh\n",
      "sbatch --job-name=makeSummary_34_2013 --nodes=1 --ntasks-per-node=6 --output=./logs/2013_makeSummary_34.out --account=PAS0654 --export=ISSIM=0,STATION=2,OUTDIR=/fs/project/PAS0654/ARA_DATA/A23/10pctCalibBugFix/RunSummary/A2/2013,YEAR=2013 tmpScipts/A2_2013_tmpSubmit_34.sh\n",
      "sbatch --job-name=makeSummary_35_2013 --nodes=1 --ntasks-per-node=6 --output=./logs/2013_makeSummary_35.out --account=PAS0654 --export=ISSIM=0,STATION=2,OUTDIR=/fs/project/PAS0654/ARA_DATA/A23/10pctCalibBugFix/RunSummary/A2/2013,YEAR=2013 tmpScipts/A2_2013_tmpSubmit_35.sh\n",
      "sbatch --job-name=makeSummary_36_2013 --nodes=1 --ntasks-per-node=6 --output=./logs/2013_makeSummary_36.out --account=PAS0654 --export=ISSIM=0,STATION=2,OUTDIR=/fs/project/PAS0654/ARA_DATA/A23/10pctCalibBugFix/RunSummary/A2/2013,YEAR=2013 tmpScipts/A2_2013_tmpSubmit_36.sh\n",
      "sbatch --job-name=makeSummary_37_2013 --nodes=1 --ntasks-per-node=6 --output=./logs/2013_makeSummary_37.out --account=PAS0654 --export=ISSIM=0,STATION=2,OUTDIR=/fs/project/PAS0654/ARA_DATA/A23/10pctCalibBugFix/RunSummary/A2/2013,YEAR=2013 tmpScipts/A2_2013_tmpSubmit_37.sh\n",
      "sbatch --job-name=makeSummary_38_2013 --nodes=1 --ntasks-per-node=6 --output=./logs/2013_makeSummary_38.out --account=PAS0654 --export=ISSIM=0,STATION=2,OUTDIR=/fs/project/PAS0654/ARA_DATA/A23/10pctCalibBugFix/RunSummary/A2/2013,YEAR=2013 tmpScipts/A2_2013_tmpSubmit_38.sh\n",
      "sbatch --job-name=makeSummary_39_2013 --nodes=1 --ntasks-per-node=6 --output=./logs/2013_makeSummary_39.out --account=PAS0654 --export=ISSIM=0,STATION=2,OUTDIR=/fs/project/PAS0654/ARA_DATA/A23/10pctCalibBugFix/RunSummary/A2/2013,YEAR=2013 tmpScipts/A2_2013_tmpSubmit_39.sh\n",
      "sbatch --job-name=makeSummary_40_2013 --nodes=1 --ntasks-per-node=6 --output=./logs/2013_makeSummary_40.out --account=PAS0654 --export=ISSIM=0,STATION=2,OUTDIR=/fs/project/PAS0654/ARA_DATA/A23/10pctCalibBugFix/RunSummary/A2/2013,YEAR=2013 tmpScipts/A2_2013_tmpSubmit_40.sh\n",
      "sbatch --job-name=makeSummary_41_2013 --nodes=1 --ntasks-per-node=6 --output=./logs/2013_makeSummary_41.out --account=PAS0654 --export=ISSIM=0,STATION=2,OUTDIR=/fs/project/PAS0654/ARA_DATA/A23/10pctCalibBugFix/RunSummary/A2/2013,YEAR=2013 tmpScipts/A2_2013_tmpSubmit_41.sh\n",
      "sbatch --job-name=makeSummary_42_2013 --nodes=1 --ntasks-per-node=6 --output=./logs/2013_makeSummary_42.out --account=PAS0654 --export=ISSIM=0,STATION=2,OUTDIR=/fs/project/PAS0654/ARA_DATA/A23/10pctCalibBugFix/RunSummary/A2/2013,YEAR=2013 tmpScipts/A2_2013_tmpSubmit_42.sh\n",
      "sbatch --job-name=makeSummary_43_2013 --nodes=1 --ntasks-per-node=6 --output=./logs/2013_makeSummary_43.out --account=PAS0654 --export=ISSIM=0,STATION=2,OUTDIR=/fs/project/PAS0654/ARA_DATA/A23/10pctCalibBugFix/RunSummary/A2/2013,YEAR=2013 tmpScipts/A2_2013_tmpSubmit_43.sh\n",
      "sbatch --job-name=makeSummary_44_2013 --nodes=1 --ntasks-per-node=6 --output=./logs/2013_makeSummary_44.out --account=PAS0654 --export=ISSIM=0,STATION=2,OUTDIR=/fs/project/PAS0654/ARA_DATA/A23/10pctCalibBugFix/RunSummary/A2/2013,YEAR=2013 tmpScipts/A2_2013_tmpSubmit_44.sh\n",
      "sbatch --job-name=makeSummary_45_2013 --nodes=1 --ntasks-per-node=6 --output=./logs/2013_makeSummary_45.out --account=PAS0654 --export=ISSIM=0,STATION=2,OUTDIR=/fs/project/PAS0654/ARA_DATA/A23/10pctCalibBugFix/RunSummary/A2/2013,YEAR=2013 tmpScipts/A2_2013_tmpSubmit_45.sh\n",
      "sbatch --job-name=makeSummary_46_2013 --nodes=1 --ntasks-per-node=6 --output=./logs/2013_makeSummary_46.out --account=PAS0654 --export=ISSIM=0,STATION=2,OUTDIR=/fs/project/PAS0654/ARA_DATA/A23/10pctCalibBugFix/RunSummary/A2/2013,YEAR=2013 tmpScipts/A2_2013_tmpSubmit_46.sh\n",
      "sbatch --job-name=makeSummary_47_2013 --nodes=1 --ntasks-per-node=6 --output=./logs/2013_makeSummary_47.out --account=PAS0654 --export=ISSIM=0,STATION=2,OUTDIR=/fs/project/PAS0654/ARA_DATA/A23/10pctCalibBugFix/RunSummary/A2/2013,YEAR=2013 tmpScipts/A2_2013_tmpSubmit_47.sh\n",
      "sbatch --job-name=makeSummary_48_2013 --nodes=1 --ntasks-per-node=6 --output=./logs/2013_makeSummary_48.out --account=PAS0654 --export=ISSIM=0,STATION=2,OUTDIR=/fs/project/PAS0654/ARA_DATA/A23/10pctCalibBugFix/RunSummary/A2/2013,YEAR=2013 tmpScipts/A2_2013_tmpSubmit_48.sh\n",
      "sbatch --job-name=makeSummary_49_2013 --nodes=1 --ntasks-per-node=6 --output=./logs/2013_makeSummary_49.out --account=PAS0654 --export=ISSIM=0,STATION=2,OUTDIR=/fs/project/PAS0654/ARA_DATA/A23/10pctCalibBugFix/RunSummary/A2/2013,YEAR=2013 tmpScipts/A2_2013_tmpSubmit_49.sh\n",
      "sbatch --job-name=makeSummary_50_2013 --nodes=1 --ntasks-per-node=6 --output=./logs/2013_makeSummary_50.out --account=PAS0654 --export=ISSIM=0,STATION=2,OUTDIR=/fs/project/PAS0654/ARA_DATA/A23/10pctCalibBugFix/RunSummary/A2/2013,YEAR=2013 tmpScipts/A2_2013_tmpSubmit_50.sh\n",
      "sbatch --job-name=makeSummary_51_2013 --nodes=1 --ntasks-per-node=6 --output=./logs/2013_makeSummary_51.out --account=PAS0654 --export=ISSIM=0,STATION=2,OUTDIR=/fs/project/PAS0654/ARA_DATA/A23/10pctCalibBugFix/RunSummary/A2/2013,YEAR=2013 tmpScipts/A2_2013_tmpSubmit_51.sh\n",
      "sbatch --job-name=makeSummary_52_2013 --nodes=1 --ntasks-per-node=6 --output=./logs/2013_makeSummary_52.out --account=PAS0654 --export=ISSIM=0,STATION=2,OUTDIR=/fs/project/PAS0654/ARA_DATA/A23/10pctCalibBugFix/RunSummary/A2/2013,YEAR=2013 tmpScipts/A2_2013_tmpSubmit_52.sh\n",
      "sbatch --job-name=makeSummary_53_2013 --nodes=1 --ntasks-per-node=6 --output=./logs/2013_makeSummary_53.out --account=PAS0654 --export=ISSIM=0,STATION=2,OUTDIR=/fs/project/PAS0654/ARA_DATA/A23/10pctCalibBugFix/RunSummary/A2/2013,YEAR=2013 tmpScipts/A2_2013_tmpSubmit_53.sh\n",
      "sbatch --job-name=makeSummary_54_2013 --nodes=1 --ntasks-per-node=6 --output=./logs/2013_makeSummary_54.out --account=PAS0654 --export=ISSIM=0,STATION=2,OUTDIR=/fs/project/PAS0654/ARA_DATA/A23/10pctCalibBugFix/RunSummary/A2/2013,YEAR=2013 tmpScipts/A2_2013_tmpSubmit_54.sh\n",
      "sbatch --job-name=makeSummary_55_2013 --nodes=1 --ntasks-per-node=6 --output=./logs/2013_makeSummary_55.out --account=PAS0654 --export=ISSIM=0,STATION=2,OUTDIR=/fs/project/PAS0654/ARA_DATA/A23/10pctCalibBugFix/RunSummary/A2/2013,YEAR=2013 tmpScipts/A2_2013_tmpSubmit_55.sh\n",
      "sbatch --job-name=makeSummary_56_2013 --nodes=1 --ntasks-per-node=6 --output=./logs/2013_makeSummary_56.out --account=PAS0654 --export=ISSIM=0,STATION=2,OUTDIR=/fs/project/PAS0654/ARA_DATA/A23/10pctCalibBugFix/RunSummary/A2/2013,YEAR=2013 tmpScipts/A2_2013_tmpSubmit_56.sh\n",
      "sbatch --job-name=makeSummary_57_2013 --nodes=1 --ntasks-per-node=6 --output=./logs/2013_makeSummary_57.out --account=PAS0654 --export=ISSIM=0,STATION=2,OUTDIR=/fs/project/PAS0654/ARA_DATA/A23/10pctCalibBugFix/RunSummary/A2/2013,YEAR=2013 tmpScipts/A2_2013_tmpSubmit_57.sh\n",
      "sbatch --job-name=makeSummary_58_2013 --nodes=1 --ntasks-per-node=6 --output=./logs/2013_makeSummary_58.out --account=PAS0654 --export=ISSIM=0,STATION=2,OUTDIR=/fs/project/PAS0654/ARA_DATA/A23/10pctCalibBugFix/RunSummary/A2/2013,YEAR=2013 tmpScipts/A2_2013_tmpSubmit_58.sh\n",
      "sbatch --job-name=makeSummary_59_2013 --nodes=1 --ntasks-per-node=6 --output=./logs/2013_makeSummary_59.out --account=PAS0654 --export=ISSIM=0,STATION=2,OUTDIR=/fs/project/PAS0654/ARA_DATA/A23/10pctCalibBugFix/RunSummary/A2/2013,YEAR=2013 tmpScipts/A2_2013_tmpSubmit_59.sh\n",
      "sbatch --job-name=makeSummary_60_2013 --nodes=1 --ntasks-per-node=6 --output=./logs/2013_makeSummary_60.out --account=PAS0654 --export=ISSIM=0,STATION=2,OUTDIR=/fs/project/PAS0654/ARA_DATA/A23/10pctCalibBugFix/RunSummary/A2/2013,YEAR=2013 tmpScipts/A2_2013_tmpSubmit_60.sh\n",
      "sbatch --job-name=makeSummary_61_2013 --nodes=1 --ntasks-per-node=6 --output=./logs/2013_makeSummary_61.out --account=PAS0654 --export=ISSIM=0,STATION=2,OUTDIR=/fs/project/PAS0654/ARA_DATA/A23/10pctCalibBugFix/RunSummary/A2/2013,YEAR=2013 tmpScipts/A2_2013_tmpSubmit_61.sh\n",
      "sbatch --job-name=makeSummary_62_2013 --nodes=1 --ntasks-per-node=6 --output=./logs/2013_makeSummary_62.out --account=PAS0654 --export=ISSIM=0,STATION=2,OUTDIR=/fs/project/PAS0654/ARA_DATA/A23/10pctCalibBugFix/RunSummary/A2/2013,YEAR=2013 tmpScipts/A2_2013_tmpSubmit_62.sh\n",
      "sbatch --job-name=makeSummary_63_2013 --nodes=1 --ntasks-per-node=6 --output=./logs/2013_makeSummary_63.out --account=PAS0654 --export=ISSIM=0,STATION=2,OUTDIR=/fs/project/PAS0654/ARA_DATA/A23/10pctCalibBugFix/RunSummary/A2/2013,YEAR=2013 tmpScipts/A2_2013_tmpSubmit_63.sh\n",
      "sbatch --job-name=makeSummary_64_2013 --nodes=1 --ntasks-per-node=6 --output=./logs/2013_makeSummary_64.out --account=PAS0654 --export=ISSIM=0,STATION=2,OUTDIR=/fs/project/PAS0654/ARA_DATA/A23/10pctCalibBugFix/RunSummary/A2/2013,YEAR=2013 tmpScipts/A2_2013_tmpSubmit_64.sh\n",
      "sbatch --job-name=makeSummary_65_2013 --nodes=1 --ntasks-per-node=6 --output=./logs/2013_makeSummary_65.out --account=PAS0654 --export=ISSIM=0,STATION=2,OUTDIR=/fs/project/PAS0654/ARA_DATA/A23/10pctCalibBugFix/RunSummary/A2/2013,YEAR=2013 tmpScipts/A2_2013_tmpSubmit_65.sh\n",
      "sbatch --job-name=makeSummary_66_2013 --nodes=1 --ntasks-per-node=6 --output=./logs/2013_makeSummary_66.out --account=PAS0654 --export=ISSIM=0,STATION=2,OUTDIR=/fs/project/PAS0654/ARA_DATA/A23/10pctCalibBugFix/RunSummary/A2/2013,YEAR=2013 tmpScipts/A2_2013_tmpSubmit_66.sh\n",
      "sbatch --job-name=makeSummary_67_2013 --nodes=1 --ntasks-per-node=6 --output=./logs/2013_makeSummary_67.out --account=PAS0654 --export=ISSIM=0,STATION=2,OUTDIR=/fs/project/PAS0654/ARA_DATA/A23/10pctCalibBugFix/RunSummary/A2/2013,YEAR=2013 tmpScipts/A2_2013_tmpSubmit_67.sh\n",
      "sbatch --job-name=makeSummary_68_2013 --nodes=1 --ntasks-per-node=6 --output=./logs/2013_makeSummary_68.out --account=PAS0654 --export=ISSIM=0,STATION=2,OUTDIR=/fs/project/PAS0654/ARA_DATA/A23/10pctCalibBugFix/RunSummary/A2/2013,YEAR=2013 tmpScipts/A2_2013_tmpSubmit_68.sh\n",
      "sbatch --job-name=makeSummary_69_2013 --nodes=1 --ntasks-per-node=6 --output=./logs/2013_makeSummary_69.out --account=PAS0654 --export=ISSIM=0,STATION=2,OUTDIR=/fs/project/PAS0654/ARA_DATA/A23/10pctCalibBugFix/RunSummary/A2/2013,YEAR=2013 tmpScipts/A2_2013_tmpSubmit_69.sh\n",
      "sbatch --job-name=makeSummary_70_2013 --nodes=1 --ntasks-per-node=6 --output=./logs/2013_makeSummary_70.out --account=PAS0654 --export=ISSIM=0,STATION=2,OUTDIR=/fs/project/PAS0654/ARA_DATA/A23/10pctCalibBugFix/RunSummary/A2/2013,YEAR=2013 tmpScipts/A2_2013_tmpSubmit_70.sh\n",
      "sbatch --job-name=makeSummary_71_2013 --nodes=1 --ntasks-per-node=6 --output=./logs/2013_makeSummary_71.out --account=PAS0654 --export=ISSIM=0,STATION=2,OUTDIR=/fs/project/PAS0654/ARA_DATA/A23/10pctCalibBugFix/RunSummary/A2/2013,YEAR=2013 tmpScipts/A2_2013_tmpSubmit_71.sh\n",
      "sbatch --job-name=makeSummary_72_2013 --nodes=1 --ntasks-per-node=6 --output=./logs/2013_makeSummary_72.out --account=PAS0654 --export=ISSIM=0,STATION=2,OUTDIR=/fs/project/PAS0654/ARA_DATA/A23/10pctCalibBugFix/RunSummary/A2/2013,YEAR=2013 tmpScipts/A2_2013_tmpSubmit_72.sh\n",
      "sbatch --job-name=makeSummary_73_2013 --nodes=1 --ntasks-per-node=6 --output=./logs/2013_makeSummary_73.out --account=PAS0654 --export=ISSIM=0,STATION=2,OUTDIR=/fs/project/PAS0654/ARA_DATA/A23/10pctCalibBugFix/RunSummary/A2/2013,YEAR=2013 tmpScipts/A2_2013_tmpSubmit_73.sh\n",
      "sbatch --job-name=makeSummary_74_2013 --nodes=1 --ntasks-per-node=6 --output=./logs/2013_makeSummary_74.out --account=PAS0654 --export=ISSIM=0,STATION=2,OUTDIR=/fs/project/PAS0654/ARA_DATA/A23/10pctCalibBugFix/RunSummary/A2/2013,YEAR=2013 tmpScipts/A2_2013_tmpSubmit_74.sh\n",
      "sbatch --job-name=makeSummary_75_2013 --nodes=1 --ntasks-per-node=6 --output=./logs/2013_makeSummary_75.out --account=PAS0654 --export=ISSIM=0,STATION=2,OUTDIR=/fs/project/PAS0654/ARA_DATA/A23/10pctCalibBugFix/RunSummary/A2/2013,YEAR=2013 tmpScipts/A2_2013_tmpSubmit_75.sh\n",
      "sbatch --job-name=makeSummary_76_2013 --nodes=1 --ntasks-per-node=6 --output=./logs/2013_makeSummary_76.out --account=PAS0654 --export=ISSIM=0,STATION=2,OUTDIR=/fs/project/PAS0654/ARA_DATA/A23/10pctCalibBugFix/RunSummary/A2/2013,YEAR=2013 tmpScipts/A2_2013_tmpSubmit_76.sh\n",
      "sbatch --job-name=makeSummary_77_2013 --nodes=1 --ntasks-per-node=6 --output=./logs/2013_makeSummary_77.out --account=PAS0654 --export=ISSIM=0,STATION=2,OUTDIR=/fs/project/PAS0654/ARA_DATA/A23/10pctCalibBugFix/RunSummary/A2/2013,YEAR=2013 tmpScipts/A2_2013_tmpSubmit_77.sh\n",
      "sbatch --job-name=makeSummary_78_2013 --nodes=1 --ntasks-per-node=6 --output=./logs/2013_makeSummary_78.out --account=PAS0654 --export=ISSIM=0,STATION=2,OUTDIR=/fs/project/PAS0654/ARA_DATA/A23/10pctCalibBugFix/RunSummary/A2/2013,YEAR=2013 tmpScipts/A2_2013_tmpSubmit_78.sh\n",
      "sbatch --job-name=makeSummary_79_2013 --nodes=1 --ntasks-per-node=6 --output=./logs/2013_makeSummary_79.out --account=PAS0654 --export=ISSIM=0,STATION=2,OUTDIR=/fs/project/PAS0654/ARA_DATA/A23/10pctCalibBugFix/RunSummary/A2/2013,YEAR=2013 tmpScipts/A2_2013_tmpSubmit_79.sh\n",
      "sbatch --job-name=makeSummary_80_2013 --nodes=1 --ntasks-per-node=6 --output=./logs/2013_makeSummary_80.out --account=PAS0654 --export=ISSIM=0,STATION=2,OUTDIR=/fs/project/PAS0654/ARA_DATA/A23/10pctCalibBugFix/RunSummary/A2/2013,YEAR=2013 tmpScipts/A2_2013_tmpSubmit_80.sh\n",
      "sbatch --job-name=makeSummary_81_2013 --nodes=1 --ntasks-per-node=6 --output=./logs/2013_makeSummary_81.out --account=PAS0654 --export=ISSIM=0,STATION=2,OUTDIR=/fs/project/PAS0654/ARA_DATA/A23/10pctCalibBugFix/RunSummary/A2/2013,YEAR=2013 tmpScipts/A2_2013_tmpSubmit_81.sh\n",
      "sbatch --job-name=makeSummary_82_2013 --nodes=1 --ntasks-per-node=6 --output=./logs/2013_makeSummary_82.out --account=PAS0654 --export=ISSIM=0,STATION=2,OUTDIR=/fs/project/PAS0654/ARA_DATA/A23/10pctCalibBugFix/RunSummary/A2/2013,YEAR=2013 tmpScipts/A2_2013_tmpSubmit_82.sh\n",
      "sbatch --job-name=makeSummary_83_2013 --nodes=1 --ntasks-per-node=6 --output=./logs/2013_makeSummary_83.out --account=PAS0654 --export=ISSIM=0,STATION=2,OUTDIR=/fs/project/PAS0654/ARA_DATA/A23/10pctCalibBugFix/RunSummary/A2/2013,YEAR=2013 tmpScipts/A2_2013_tmpSubmit_83.sh\n",
      "sbatch --job-name=makeSummary_84_2013 --nodes=1 --ntasks-per-node=6 --output=./logs/2013_makeSummary_84.out --account=PAS0654 --export=ISSIM=0,STATION=2,OUTDIR=/fs/project/PAS0654/ARA_DATA/A23/10pctCalibBugFix/RunSummary/A2/2013,YEAR=2013 tmpScipts/A2_2013_tmpSubmit_84.sh\n",
      "sbatch --job-name=makeSummary_85_2013 --nodes=1 --ntasks-per-node=6 --output=./logs/2013_makeSummary_85.out --account=PAS0654 --export=ISSIM=0,STATION=2,OUTDIR=/fs/project/PAS0654/ARA_DATA/A23/10pctCalibBugFix/RunSummary/A2/2013,YEAR=2013 tmpScipts/A2_2013_tmpSubmit_85.sh\n",
      "sbatch --job-name=makeSummary_86_2013 --nodes=1 --ntasks-per-node=6 --output=./logs/2013_makeSummary_86.out --account=PAS0654 --export=ISSIM=0,STATION=2,OUTDIR=/fs/project/PAS0654/ARA_DATA/A23/10pctCalibBugFix/RunSummary/A2/2013,YEAR=2013 tmpScipts/A2_2013_tmpSubmit_86.sh\n",
      "sbatch --job-name=makeSummary_87_2013 --nodes=1 --ntasks-per-node=6 --output=./logs/2013_makeSummary_87.out --account=PAS0654 --export=ISSIM=0,STATION=2,OUTDIR=/fs/project/PAS0654/ARA_DATA/A23/10pctCalibBugFix/RunSummary/A2/2013,YEAR=2013 tmpScipts/A2_2013_tmpSubmit_87.sh\n",
      "sbatch --job-name=makeSummary_88_2013 --nodes=1 --ntasks-per-node=6 --output=./logs/2013_makeSummary_88.out --account=PAS0654 --export=ISSIM=0,STATION=2,OUTDIR=/fs/project/PAS0654/ARA_DATA/A23/10pctCalibBugFix/RunSummary/A2/2013,YEAR=2013 tmpScipts/A2_2013_tmpSubmit_88.sh\n",
      "sbatch --job-name=makeSummary_89_2013 --nodes=1 --ntasks-per-node=6 --output=./logs/2013_makeSummary_89.out --account=PAS0654 --export=ISSIM=0,STATION=2,OUTDIR=/fs/project/PAS0654/ARA_DATA/A23/10pctCalibBugFix/RunSummary/A2/2013,YEAR=2013 tmpScipts/A2_2013_tmpSubmit_89.sh\n",
      "sbatch --job-name=makeSummary_90_2013 --nodes=1 --ntasks-per-node=6 --output=./logs/2013_makeSummary_90.out --account=PAS0654 --export=ISSIM=0,STATION=2,OUTDIR=/fs/project/PAS0654/ARA_DATA/A23/10pctCalibBugFix/RunSummary/A2/2013,YEAR=2013 tmpScipts/A2_2013_tmpSubmit_90.sh\n",
      "sbatch --job-name=makeSummary_91_2013 --nodes=1 --ntasks-per-node=6 --output=./logs/2013_makeSummary_91.out --account=PAS0654 --export=ISSIM=0,STATION=2,OUTDIR=/fs/project/PAS0654/ARA_DATA/A23/10pctCalibBugFix/RunSummary/A2/2013,YEAR=2013 tmpScipts/A2_2013_tmpSubmit_91.sh\n",
      "sbatch --job-name=makeSummary_92_2013 --nodes=1 --ntasks-per-node=6 --output=./logs/2013_makeSummary_92.out --account=PAS0654 --export=ISSIM=0,STATION=2,OUTDIR=/fs/project/PAS0654/ARA_DATA/A23/10pctCalibBugFix/RunSummary/A2/2013,YEAR=2013 tmpScipts/A2_2013_tmpSubmit_92.sh\n",
      "sbatch --job-name=makeSummary_93_2013 --nodes=1 --ntasks-per-node=6 --output=./logs/2013_makeSummary_93.out --account=PAS0654 --export=ISSIM=0,STATION=2,OUTDIR=/fs/project/PAS0654/ARA_DATA/A23/10pctCalibBugFix/RunSummary/A2/2013,YEAR=2013 tmpScipts/A2_2013_tmpSubmit_93.sh\n",
      "sbatch --job-name=makeSummary_94_2013 --nodes=1 --ntasks-per-node=6 --output=./logs/2013_makeSummary_94.out --account=PAS0654 --export=ISSIM=0,STATION=2,OUTDIR=/fs/project/PAS0654/ARA_DATA/A23/10pctCalibBugFix/RunSummary/A2/2013,YEAR=2013 tmpScipts/A2_2013_tmpSubmit_94.sh\n",
      "sbatch --job-name=makeSummary_95_2013 --nodes=1 --ntasks-per-node=6 --output=./logs/2013_makeSummary_95.out --account=PAS0654 --export=ISSIM=0,STATION=2,OUTDIR=/fs/project/PAS0654/ARA_DATA/A23/10pctCalibBugFix/RunSummary/A2/2013,YEAR=2013 tmpScipts/A2_2013_tmpSubmit_95.sh\n",
      "sbatch --job-name=makeSummary_96_2013 --nodes=1 --ntasks-per-node=6 --output=./logs/2013_makeSummary_96.out --account=PAS0654 --export=ISSIM=0,STATION=2,OUTDIR=/fs/project/PAS0654/ARA_DATA/A23/10pctCalibBugFix/RunSummary/A2/2013,YEAR=2013 tmpScipts/A2_2013_tmpSubmit_96.sh\n",
      "sbatch --job-name=makeSummary_97_2013 --nodes=1 --ntasks-per-node=6 --output=./logs/2013_makeSummary_97.out --account=PAS0654 --export=ISSIM=0,STATION=2,OUTDIR=/fs/project/PAS0654/ARA_DATA/A23/10pctCalibBugFix/RunSummary/A2/2013,YEAR=2013 tmpScipts/A2_2013_tmpSubmit_97.sh\n",
      "sbatch --job-name=makeSummary_98_2013 --nodes=1 --ntasks-per-node=6 --output=./logs/2013_makeSummary_98.out --account=PAS0654 --export=ISSIM=0,STATION=2,OUTDIR=/fs/project/PAS0654/ARA_DATA/A23/10pctCalibBugFix/RunSummary/A2/2013,YEAR=2013 tmpScipts/A2_2013_tmpSubmit_98.sh\n",
      "sbatch --job-name=makeSummary_99_2013 --nodes=1 --ntasks-per-node=6 --output=./logs/2013_makeSummary_99.out --account=PAS0654 --export=ISSIM=0,STATION=2,OUTDIR=/fs/project/PAS0654/ARA_DATA/A23/10pctCalibBugFix/RunSummary/A2/2013,YEAR=2013 tmpScipts/A2_2013_tmpSubmit_99.sh\n",
      "sbatch --job-name=makeSummary_100_2013 --nodes=1 --ntasks-per-node=6 --output=./logs/2013_makeSummary_100.out --account=PAS0654 --export=ISSIM=0,STATION=2,OUTDIR=/fs/project/PAS0654/ARA_DATA/A23/10pctCalibBugFix/RunSummary/A2/2013,YEAR=2013 tmpScipts/A2_2013_tmpSubmit_100.sh\n",
      "sbatch --job-name=makeSummary_101_2013 --nodes=1 --ntasks-per-node=6 --output=./logs/2013_makeSummary_101.out --account=PAS0654 --export=ISSIM=0,STATION=2,OUTDIR=/fs/project/PAS0654/ARA_DATA/A23/10pctCalibBugFix/RunSummary/A2/2013,YEAR=2013 tmpScipts/A2_2013_tmpSubmit_101.sh\n",
      "sbatch --job-name=makeSummary_102_2013 --nodes=1 --ntasks-per-node=6 --output=./logs/2013_makeSummary_102.out --account=PAS0654 --export=ISSIM=0,STATION=2,OUTDIR=/fs/project/PAS0654/ARA_DATA/A23/10pctCalibBugFix/RunSummary/A2/2013,YEAR=2013 tmpScipts/A2_2013_tmpSubmit_102.sh\n",
      "sbatch --job-name=makeSummary_103_2013 --nodes=1 --ntasks-per-node=6 --output=./logs/2013_makeSummary_103.out --account=PAS0654 --export=ISSIM=0,STATION=2,OUTDIR=/fs/project/PAS0654/ARA_DATA/A23/10pctCalibBugFix/RunSummary/A2/2013,YEAR=2013 tmpScipts/A2_2013_tmpSubmit_103.sh\n",
      "sbatch --job-name=makeSummary_104_2013 --nodes=1 --ntasks-per-node=6 --output=./logs/2013_makeSummary_104.out --account=PAS0654 --export=ISSIM=0,STATION=2,OUTDIR=/fs/project/PAS0654/ARA_DATA/A23/10pctCalibBugFix/RunSummary/A2/2013,YEAR=2013 tmpScipts/A2_2013_tmpSubmit_104.sh\n",
      "sbatch --job-name=makeSummary_105_2013 --nodes=1 --ntasks-per-node=6 --output=./logs/2013_makeSummary_105.out --account=PAS0654 --export=ISSIM=0,STATION=2,OUTDIR=/fs/project/PAS0654/ARA_DATA/A23/10pctCalibBugFix/RunSummary/A2/2013,YEAR=2013 tmpScipts/A2_2013_tmpSubmit_105.sh\n",
      "sbatch --job-name=makeSummary_106_2013 --nodes=1 --ntasks-per-node=6 --output=./logs/2013_makeSummary_106.out --account=PAS0654 --export=ISSIM=0,STATION=2,OUTDIR=/fs/project/PAS0654/ARA_DATA/A23/10pctCalibBugFix/RunSummary/A2/2013,YEAR=2013 tmpScipts/A2_2013_tmpSubmit_106.sh\n",
      "sbatch --job-name=makeSummary_107_2013 --nodes=1 --ntasks-per-node=6 --output=./logs/2013_makeSummary_107.out --account=PAS0654 --export=ISSIM=0,STATION=2,OUTDIR=/fs/project/PAS0654/ARA_DATA/A23/10pctCalibBugFix/RunSummary/A2/2013,YEAR=2013 tmpScipts/A2_2013_tmpSubmit_107.sh\n",
      "sbatch --job-name=makeSummary_108_2013 --nodes=1 --ntasks-per-node=6 --output=./logs/2013_makeSummary_108.out --account=PAS0654 --export=ISSIM=0,STATION=2,OUTDIR=/fs/project/PAS0654/ARA_DATA/A23/10pctCalibBugFix/RunSummary/A2/2013,YEAR=2013 tmpScipts/A2_2013_tmpSubmit_108.sh\n",
      "sbatch --job-name=makeSummary_109_2013 --nodes=1 --ntasks-per-node=6 --output=./logs/2013_makeSummary_109.out --account=PAS0654 --export=ISSIM=0,STATION=2,OUTDIR=/fs/project/PAS0654/ARA_DATA/A23/10pctCalibBugFix/RunSummary/A2/2013,YEAR=2013 tmpScipts/A2_2013_tmpSubmit_109.sh\n",
      "sbatch --job-name=makeSummary_110_2013 --nodes=1 --ntasks-per-node=6 --output=./logs/2013_makeSummary_110.out --account=PAS0654 --export=ISSIM=0,STATION=2,OUTDIR=/fs/project/PAS0654/ARA_DATA/A23/10pctCalibBugFix/RunSummary/A2/2013,YEAR=2013 tmpScipts/A2_2013_tmpSubmit_110.sh\n",
      "sbatch --job-name=makeSummary_111_2013 --nodes=1 --ntasks-per-node=6 --output=./logs/2013_makeSummary_111.out --account=PAS0654 --export=ISSIM=0,STATION=2,OUTDIR=/fs/project/PAS0654/ARA_DATA/A23/10pctCalibBugFix/RunSummary/A2/2013,YEAR=2013 tmpScipts/A2_2013_tmpSubmit_111.sh\n",
      "sbatch --job-name=makeSummary_112_2013 --nodes=1 --ntasks-per-node=6 --output=./logs/2013_makeSummary_112.out --account=PAS0654 --export=ISSIM=0,STATION=2,OUTDIR=/fs/project/PAS0654/ARA_DATA/A23/10pctCalibBugFix/RunSummary/A2/2013,YEAR=2013 tmpScipts/A2_2013_tmpSubmit_112.sh\n",
      "sbatch --job-name=makeSummary_113_2013 --nodes=1 --ntasks-per-node=6 --output=./logs/2013_makeSummary_113.out --account=PAS0654 --export=ISSIM=0,STATION=2,OUTDIR=/fs/project/PAS0654/ARA_DATA/A23/10pctCalibBugFix/RunSummary/A2/2013,YEAR=2013 tmpScipts/A2_2013_tmpSubmit_113.sh\n",
      "sbatch --job-name=makeSummary_114_2013 --nodes=1 --ntasks-per-node=6 --output=./logs/2013_makeSummary_114.out --account=PAS0654 --export=ISSIM=0,STATION=2,OUTDIR=/fs/project/PAS0654/ARA_DATA/A23/10pctCalibBugFix/RunSummary/A2/2013,YEAR=2013 tmpScipts/A2_2013_tmpSubmit_114.sh\n",
      "sbatch --job-name=makeSummary_115_2013 --nodes=1 --ntasks-per-node=6 --output=./logs/2013_makeSummary_115.out --account=PAS0654 --export=ISSIM=0,STATION=2,OUTDIR=/fs/project/PAS0654/ARA_DATA/A23/10pctCalibBugFix/RunSummary/A2/2013,YEAR=2013 tmpScipts/A2_2013_tmpSubmit_115.sh\n",
      "sbatch --job-name=makeSummary_116_2013 --nodes=1 --ntasks-per-node=6 --output=./logs/2013_makeSummary_116.out --account=PAS0654 --export=ISSIM=0,STATION=2,OUTDIR=/fs/project/PAS0654/ARA_DATA/A23/10pctCalibBugFix/RunSummary/A2/2013,YEAR=2013 tmpScipts/A2_2013_tmpSubmit_116.sh\n",
      "sbatch --job-name=makeSummary_117_2013 --nodes=1 --ntasks-per-node=6 --output=./logs/2013_makeSummary_117.out --account=PAS0654 --export=ISSIM=0,STATION=2,OUTDIR=/fs/project/PAS0654/ARA_DATA/A23/10pctCalibBugFix/RunSummary/A2/2013,YEAR=2013 tmpScipts/A2_2013_tmpSubmit_117.sh\n",
      "sbatch --job-name=makeSummary_118_2013 --nodes=1 --ntasks-per-node=6 --output=./logs/2013_makeSummary_118.out --account=PAS0654 --export=ISSIM=0,STATION=2,OUTDIR=/fs/project/PAS0654/ARA_DATA/A23/10pctCalibBugFix/RunSummary/A2/2013,YEAR=2013 tmpScipts/A2_2013_tmpSubmit_118.sh\n",
      "sbatch --job-name=makeSummary_119_2013 --nodes=1 --ntasks-per-node=6 --output=./logs/2013_makeSummary_119.out --account=PAS0654 --export=ISSIM=0,STATION=2,OUTDIR=/fs/project/PAS0654/ARA_DATA/A23/10pctCalibBugFix/RunSummary/A2/2013,YEAR=2013 tmpScipts/A2_2013_tmpSubmit_119.sh\n",
      "sbatch --job-name=makeSummary_120_2013 --nodes=1 --ntasks-per-node=6 --output=./logs/2013_makeSummary_120.out --account=PAS0654 --export=ISSIM=0,STATION=2,OUTDIR=/fs/project/PAS0654/ARA_DATA/A23/10pctCalibBugFix/RunSummary/A2/2013,YEAR=2013 tmpScipts/A2_2013_tmpSubmit_120.sh\n",
      "sbatch --job-name=makeSummary_121_2013 --nodes=1 --ntasks-per-node=6 --output=./logs/2013_makeSummary_121.out --account=PAS0654 --export=ISSIM=0,STATION=2,OUTDIR=/fs/project/PAS0654/ARA_DATA/A23/10pctCalibBugFix/RunSummary/A2/2013,YEAR=2013 tmpScipts/A2_2013_tmpSubmit_121.sh\n",
      "sbatch --job-name=makeSummary_122_2013 --nodes=1 --ntasks-per-node=6 --output=./logs/2013_makeSummary_122.out --account=PAS0654 --export=ISSIM=0,STATION=2,OUTDIR=/fs/project/PAS0654/ARA_DATA/A23/10pctCalibBugFix/RunSummary/A2/2013,YEAR=2013 tmpScipts/A2_2013_tmpSubmit_122.sh\n",
      "sbatch --job-name=makeSummary_123_2013 --nodes=1 --ntasks-per-node=6 --output=./logs/2013_makeSummary_123.out --account=PAS0654 --export=ISSIM=0,STATION=2,OUTDIR=/fs/project/PAS0654/ARA_DATA/A23/10pctCalibBugFix/RunSummary/A2/2013,YEAR=2013 tmpScipts/A2_2013_tmpSubmit_123.sh\n",
      "sbatch --job-name=makeSummary_124_2013 --nodes=1 --ntasks-per-node=6 --output=./logs/2013_makeSummary_124.out --account=PAS0654 --export=ISSIM=0,STATION=2,OUTDIR=/fs/project/PAS0654/ARA_DATA/A23/10pctCalibBugFix/RunSummary/A2/2013,YEAR=2013 tmpScipts/A2_2013_tmpSubmit_124.sh\n",
      "sbatch --job-name=makeSummary_125_2013 --nodes=1 --ntasks-per-node=6 --output=./logs/2013_makeSummary_125.out --account=PAS0654 --export=ISSIM=0,STATION=2,OUTDIR=/fs/project/PAS0654/ARA_DATA/A23/10pctCalibBugFix/RunSummary/A2/2013,YEAR=2013 tmpScipts/A2_2013_tmpSubmit_125.sh\n",
      "sbatch --job-name=makeSummary_126_2013 --nodes=1 --ntasks-per-node=6 --output=./logs/2013_makeSummary_126.out --account=PAS0654 --export=ISSIM=0,STATION=2,OUTDIR=/fs/project/PAS0654/ARA_DATA/A23/10pctCalibBugFix/RunSummary/A2/2013,YEAR=2013 tmpScipts/A2_2013_tmpSubmit_126.sh\n",
      "sbatch --job-name=makeSummary_127_2013 --nodes=1 --ntasks-per-node=6 --output=./logs/2013_makeSummary_127.out --account=PAS0654 --export=ISSIM=0,STATION=2,OUTDIR=/fs/project/PAS0654/ARA_DATA/A23/10pctCalibBugFix/RunSummary/A2/2013,YEAR=2013 tmpScipts/A2_2013_tmpSubmit_127.sh\n",
      "sbatch --job-name=makeSummary_128_2013 --nodes=1 --ntasks-per-node=6 --output=./logs/2013_makeSummary_128.out --account=PAS0654 --export=ISSIM=0,STATION=2,OUTDIR=/fs/project/PAS0654/ARA_DATA/A23/10pctCalibBugFix/RunSummary/A2/2013,YEAR=2013 tmpScipts/A2_2013_tmpSubmit_128.sh\n",
      "sbatch --job-name=makeSummary_129_2013 --nodes=1 --ntasks-per-node=6 --output=./logs/2013_makeSummary_129.out --account=PAS0654 --export=ISSIM=0,STATION=2,OUTDIR=/fs/project/PAS0654/ARA_DATA/A23/10pctCalibBugFix/RunSummary/A2/2013,YEAR=2013 tmpScipts/A2_2013_tmpSubmit_129.sh\n",
      "sbatch --job-name=makeSummary_130_2013 --nodes=1 --ntasks-per-node=6 --output=./logs/2013_makeSummary_130.out --account=PAS0654 --export=ISSIM=0,STATION=2,OUTDIR=/fs/project/PAS0654/ARA_DATA/A23/10pctCalibBugFix/RunSummary/A2/2013,YEAR=2013 tmpScipts/A2_2013_tmpSubmit_130.sh\n",
      "sbatch --job-name=makeSummary_131_2013 --nodes=1 --ntasks-per-node=6 --output=./logs/2013_makeSummary_131.out --account=PAS0654 --export=ISSIM=0,STATION=2,OUTDIR=/fs/project/PAS0654/ARA_DATA/A23/10pctCalibBugFix/RunSummary/A2/2013,YEAR=2013 tmpScipts/A2_2013_tmpSubmit_131.sh\n",
      "sbatch --job-name=makeSummary_132_2013 --nodes=1 --ntasks-per-node=6 --output=./logs/2013_makeSummary_132.out --account=PAS0654 --export=ISSIM=0,STATION=2,OUTDIR=/fs/project/PAS0654/ARA_DATA/A23/10pctCalibBugFix/RunSummary/A2/2013,YEAR=2013 tmpScipts/A2_2013_tmpSubmit_132.sh\n",
      "sbatch --job-name=makeSummary_133_2013 --nodes=1 --ntasks-per-node=6 --output=./logs/2013_makeSummary_133.out --account=PAS0654 --export=ISSIM=0,STATION=2,OUTDIR=/fs/project/PAS0654/ARA_DATA/A23/10pctCalibBugFix/RunSummary/A2/2013,YEAR=2013 tmpScipts/A2_2013_tmpSubmit_133.sh\n",
      "sbatch --job-name=makeSummary_134_2013 --nodes=1 --ntasks-per-node=6 --output=./logs/2013_makeSummary_134.out --account=PAS0654 --export=ISSIM=0,STATION=2,OUTDIR=/fs/project/PAS0654/ARA_DATA/A23/10pctCalibBugFix/RunSummary/A2/2013,YEAR=2013 tmpScipts/A2_2013_tmpSubmit_134.sh\n",
      "sbatch --job-name=makeSummary_135_2013 --nodes=1 --ntasks-per-node=6 --output=./logs/2013_makeSummary_135.out --account=PAS0654 --export=ISSIM=0,STATION=2,OUTDIR=/fs/project/PAS0654/ARA_DATA/A23/10pctCalibBugFix/RunSummary/A2/2013,YEAR=2013 tmpScipts/A2_2013_tmpSubmit_135.sh\n",
      "sbatch --job-name=makeSummary_136_2013 --nodes=1 --ntasks-per-node=6 --output=./logs/2013_makeSummary_136.out --account=PAS0654 --export=ISSIM=0,STATION=2,OUTDIR=/fs/project/PAS0654/ARA_DATA/A23/10pctCalibBugFix/RunSummary/A2/2013,YEAR=2013 tmpScipts/A2_2013_tmpSubmit_136.sh\n",
      "sbatch --job-name=makeSummary_137_2013 --nodes=1 --ntasks-per-node=6 --output=./logs/2013_makeSummary_137.out --account=PAS0654 --export=ISSIM=0,STATION=2,OUTDIR=/fs/project/PAS0654/ARA_DATA/A23/10pctCalibBugFix/RunSummary/A2/2013,YEAR=2013 tmpScipts/A2_2013_tmpSubmit_137.sh\n",
      "sbatch --job-name=makeSummary_138_2013 --nodes=1 --ntasks-per-node=6 --output=./logs/2013_makeSummary_138.out --account=PAS0654 --export=ISSIM=0,STATION=2,OUTDIR=/fs/project/PAS0654/ARA_DATA/A23/10pctCalibBugFix/RunSummary/A2/2013,YEAR=2013 tmpScipts/A2_2013_tmpSubmit_138.sh\n",
      "sbatch --job-name=makeSummary_139_2013 --nodes=1 --ntasks-per-node=6 --output=./logs/2013_makeSummary_139.out --account=PAS0654 --export=ISSIM=0,STATION=2,OUTDIR=/fs/project/PAS0654/ARA_DATA/A23/10pctCalibBugFix/RunSummary/A2/2013,YEAR=2013 tmpScipts/A2_2013_tmpSubmit_139.sh\n",
      "sbatch --job-name=makeSummary_140_2013 --nodes=1 --ntasks-per-node=6 --output=./logs/2013_makeSummary_140.out --account=PAS0654 --export=ISSIM=0,STATION=2,OUTDIR=/fs/project/PAS0654/ARA_DATA/A23/10pctCalibBugFix/RunSummary/A2/2013,YEAR=2013 tmpScipts/A2_2013_tmpSubmit_140.sh\n",
      "sbatch --job-name=makeSummary_141_2013 --nodes=1 --ntasks-per-node=6 --output=./logs/2013_makeSummary_141.out --account=PAS0654 --export=ISSIM=0,STATION=2,OUTDIR=/fs/project/PAS0654/ARA_DATA/A23/10pctCalibBugFix/RunSummary/A2/2013,YEAR=2013 tmpScipts/A2_2013_tmpSubmit_141.sh\n",
      "sbatch --job-name=makeSummary_142_2013 --nodes=1 --ntasks-per-node=6 --output=./logs/2013_makeSummary_142.out --account=PAS0654 --export=ISSIM=0,STATION=2,OUTDIR=/fs/project/PAS0654/ARA_DATA/A23/10pctCalibBugFix/RunSummary/A2/2013,YEAR=2013 tmpScipts/A2_2013_tmpSubmit_142.sh\n",
      "sbatch --job-name=makeSummary_143_2013 --nodes=1 --ntasks-per-node=6 --output=./logs/2013_makeSummary_143.out --account=PAS0654 --export=ISSIM=0,STATION=2,OUTDIR=/fs/project/PAS0654/ARA_DATA/A23/10pctCalibBugFix/RunSummary/A2/2013,YEAR=2013 tmpScipts/A2_2013_tmpSubmit_143.sh\n",
      "sbatch --job-name=makeSummary_144_2013 --nodes=1 --ntasks-per-node=6 --output=./logs/2013_makeSummary_144.out --account=PAS0654 --export=ISSIM=0,STATION=2,OUTDIR=/fs/project/PAS0654/ARA_DATA/A23/10pctCalibBugFix/RunSummary/A2/2013,YEAR=2013 tmpScipts/A2_2013_tmpSubmit_144.sh\n",
      "sbatch --job-name=makeSummary_145_2013 --nodes=1 --ntasks-per-node=6 --output=./logs/2013_makeSummary_145.out --account=PAS0654 --export=ISSIM=0,STATION=2,OUTDIR=/fs/project/PAS0654/ARA_DATA/A23/10pctCalibBugFix/RunSummary/A2/2013,YEAR=2013 tmpScipts/A2_2013_tmpSubmit_145.sh\n",
      "sbatch --job-name=makeSummary_146_2013 --nodes=1 --ntasks-per-node=6 --output=./logs/2013_makeSummary_146.out --account=PAS0654 --export=ISSIM=0,STATION=2,OUTDIR=/fs/project/PAS0654/ARA_DATA/A23/10pctCalibBugFix/RunSummary/A2/2013,YEAR=2013 tmpScipts/A2_2013_tmpSubmit_146.sh\n",
      "sbatch --job-name=makeSummary_147_2013 --nodes=1 --ntasks-per-node=6 --output=./logs/2013_makeSummary_147.out --account=PAS0654 --export=ISSIM=0,STATION=2,OUTDIR=/fs/project/PAS0654/ARA_DATA/A23/10pctCalibBugFix/RunSummary/A2/2013,YEAR=2013 tmpScipts/A2_2013_tmpSubmit_147.sh\n",
      "sbatch --job-name=makeSummary_148_2013 --nodes=1 --ntasks-per-node=6 --output=./logs/2013_makeSummary_148.out --account=PAS0654 --export=ISSIM=0,STATION=2,OUTDIR=/fs/project/PAS0654/ARA_DATA/A23/10pctCalibBugFix/RunSummary/A2/2013,YEAR=2013 tmpScipts/A2_2013_tmpSubmit_148.sh\n",
      "sbatch --job-name=makeSummary_149_2013 --nodes=1 --ntasks-per-node=6 --output=./logs/2013_makeSummary_149.out --account=PAS0654 --export=ISSIM=0,STATION=2,OUTDIR=/fs/project/PAS0654/ARA_DATA/A23/10pctCalibBugFix/RunSummary/A2/2013,YEAR=2013 tmpScipts/A2_2013_tmpSubmit_149.sh\n",
      "sbatch --job-name=makeSummary_150_2013 --nodes=1 --ntasks-per-node=6 --output=./logs/2013_makeSummary_150.out --account=PAS0654 --export=ISSIM=0,STATION=2,OUTDIR=/fs/project/PAS0654/ARA_DATA/A23/10pctCalibBugFix/RunSummary/A2/2013,YEAR=2013 tmpScipts/A2_2013_tmpSubmit_150.sh\n",
      "sbatch --job-name=makeSummary_151_2013 --nodes=1 --ntasks-per-node=6 --output=./logs/2013_makeSummary_151.out --account=PAS0654 --export=ISSIM=0,STATION=2,OUTDIR=/fs/project/PAS0654/ARA_DATA/A23/10pctCalibBugFix/RunSummary/A2/2013,YEAR=2013 tmpScipts/A2_2013_tmpSubmit_151.sh\n",
      "sbatch --job-name=makeSummary_152_2013 --nodes=1 --ntasks-per-node=6 --output=./logs/2013_makeSummary_152.out --account=PAS0654 --export=ISSIM=0,STATION=2,OUTDIR=/fs/project/PAS0654/ARA_DATA/A23/10pctCalibBugFix/RunSummary/A2/2013,YEAR=2013 tmpScipts/A2_2013_tmpSubmit_152.sh\n",
      "sbatch --job-name=makeSummary_153_2013 --nodes=1 --ntasks-per-node=6 --output=./logs/2013_makeSummary_153.out --account=PAS0654 --export=ISSIM=0,STATION=2,OUTDIR=/fs/project/PAS0654/ARA_DATA/A23/10pctCalibBugFix/RunSummary/A2/2013,YEAR=2013 tmpScipts/A2_2013_tmpSubmit_153.sh\n",
      "sbatch --job-name=makeSummary_154_2013 --nodes=1 --ntasks-per-node=6 --output=./logs/2013_makeSummary_154.out --account=PAS0654 --export=ISSIM=0,STATION=2,OUTDIR=/fs/project/PAS0654/ARA_DATA/A23/10pctCalibBugFix/RunSummary/A2/2013,YEAR=2013 tmpScipts/A2_2013_tmpSubmit_154.sh\n",
      "sbatch --job-name=makeSummary_155_2013 --nodes=1 --ntasks-per-node=6 --output=./logs/2013_makeSummary_155.out --account=PAS0654 --export=ISSIM=0,STATION=2,OUTDIR=/fs/project/PAS0654/ARA_DATA/A23/10pctCalibBugFix/RunSummary/A2/2013,YEAR=2013 tmpScipts/A2_2013_tmpSubmit_155.sh\n",
      "sbatch --job-name=makeSummary_156_2013 --nodes=1 --ntasks-per-node=6 --output=./logs/2013_makeSummary_156.out --account=PAS0654 --export=ISSIM=0,STATION=2,OUTDIR=/fs/project/PAS0654/ARA_DATA/A23/10pctCalibBugFix/RunSummary/A2/2013,YEAR=2013 tmpScipts/A2_2013_tmpSubmit_156.sh\n",
      "sbatch --job-name=makeSummary_157_2013 --nodes=1 --ntasks-per-node=6 --output=./logs/2013_makeSummary_157.out --account=PAS0654 --export=ISSIM=0,STATION=2,OUTDIR=/fs/project/PAS0654/ARA_DATA/A23/10pctCalibBugFix/RunSummary/A2/2013,YEAR=2013 tmpScipts/A2_2013_tmpSubmit_157.sh\n",
      "sbatch --job-name=makeSummary_158_2013 --nodes=1 --ntasks-per-node=6 --output=./logs/2013_makeSummary_158.out --account=PAS0654 --export=ISSIM=0,STATION=2,OUTDIR=/fs/project/PAS0654/ARA_DATA/A23/10pctCalibBugFix/RunSummary/A2/2013,YEAR=2013 tmpScipts/A2_2013_tmpSubmit_158.sh\n"
     ]
    }
   ],
   "source": [
    "count = 0\n",
    "with open(file, mode='r', newline='', encoding='utf-8-sig') as csvfile:\n",
    "    reader = csv.reader(csvfile)\n",
    "    count_core = 0\n",
    "    for job in reader:\n",
    "        if(count_core==0):\n",
    "            f = open(\"/users/PAS0654/osu8354/ARA_cvmfs/source/AraRoot/analysis/ARA_analysis/ARA_SourceSearch/OSC_scripts/step2-make_run_summary/tmpScipts/A%i_%i_tmpSubmit_%i.sh\"%(station, year, count), \"w+\")\n",
    "            f.write(\"#!/bin/bash\\n\\n\")\n",
    "            f.write(\"#SBATCH --mail-type=FAIL\\n\")\n",
    "            f.write(\"#SBATCH --time=01:10:00\\n\\n\")\n",
    "            f.write(\"eval 'source /users/PCON0003/cond0068/.bash_profile_pitzer_cvmfs'\\n\")\n",
    "            f.write(\"cd /users/PAS0654/osu8354/ARA_cvmfs/source/AraRoot/analysis/\\n\\n\")\n",
    "        dataFile = job[0]\n",
    "        pedestal = job[1]\n",
    "        f.write(\"./v2_analysis_run_summary ${ISSIM} ${STATION} ${OUTDIR} %s %s &\\n\"%(dataFile,pedestal))\n",
    "        count_core+=1\n",
    "\n",
    "        if(count_core==cores):\n",
    "            f.write(\"wait\\n\")\n",
    "            f.close()\n",
    "            count_core = 0\n",
    "            \n",
    "            split = os.path.split(job[0])\n",
    "            run = os.path.splitext(split[1])[0].strip(\"event\")\n",
    "            submit_command = (\"sbatch \"\n",
    "                        \"--job-name=makeSummary_{9}_{7} --nodes=1 --ntasks-per-node={8} --output=./logs/{7}_makeSummary_{9}.out --account={6} \"\n",
    "                        \"--export=ISSIM={1},STATION={2},OUTDIR={5},YEAR={7} tmpScipts/A{2}_{7}_tmpSubmit_{9}.sh\").format(run,isSim,station,dataFile,job[1],outputDir, project, year, cores, count)\n",
    "            print(submit_command)\n",
    "            count+=1\n",
    "\n",
    "if(count_core<cores):\n",
    "    f.write(\"wait\\n\")\n",
    "    f.close()\n",
    "\n",
    "    split = os.path.split(job[0])\n",
    "    run = os.path.splitext(split[1])[0].strip(\"event\")\n",
    "    submit_command = (\"sbatch \"\n",
    "                \"--job-name=makeSummary_{9}_{7} --nodes=1 --ntasks-per-node={8} --output=./logs/{7}_makeSummary_{9}.out --account={6} \"\n",
    "                \"--export=ISSIM={1},STATION={2},OUTDIR={5},YEAR={7} tmpScipts/A{2}_{7}_tmpSubmit_{9}.sh\").format(run,isSim,station,dataFile,job[1],outputDir, project, year, cores, count)\n",
    "    print(submit_command)\n",
    "\n",
    "        # print(\"Submitted run%s\"%run)\n",
    "#         exit_status = subprocess.call(submit_command, shell=True)\n",
    "#         if exit_status is 1:  # Check to make sure the job submitted\n",
    "#             print(\"Job {0} failed to submit\".format(submit_command))\n",
    "#         break"
   ]
  },
  {
   "cell_type": "code",
   "execution_count": 82,
   "metadata": {},
   "outputs": [],
   "source": [
    "f = open(\"/users/PAS0654/osu8354/ARA_cvmfs/source/AraRoot/analysis/ARA_analysis/ARA_SourceSearch/OSC_scripts/step2-make_run_summary/tmpScipts/tmpSubmit_%i.sh\"%count, \"w+\")\n",
    "f.write(\"#!/bin/bash\\n\\n\")\n",
    "f.write(\"#SBATCH --mail-type=FAIL\\n\")\n",
    "f.write(\"#SBATCH --time=01:10:00\\n\\n\")\n",
    "f.write(\"eval 'source /users/PCON0003/cond0068/.bash_profile_pitzer_cvmfs'\\n\")\n",
    "f.write(\"cd /users/PAS0654/osu8354/ARA_cvmfs/source/AraRoot/analysis/\")\n",
    "f.write(\"./v2_analysis_run_summary ${ISSIM} ${STATION} ${OUTDIR} %s %s\")\n",
    "f.close()"
   ]
  },
  {
   "cell_type": "code",
   "execution_count": 121,
   "metadata": {},
   "outputs": [
    {
     "data": {
      "text/plain": [
       "5"
      ]
     },
     "execution_count": 121,
     "metadata": {},
     "output_type": "execute_result"
    }
   ],
   "source": [
    "count_core"
   ]
  },
  {
   "cell_type": "code",
   "execution_count": null,
   "metadata": {},
   "outputs": [],
   "source": []
  }
 ],
 "metadata": {
  "kernelspec": {
   "display_name": "Python 3.7-2019.10 [python/3.7-2019.10]",
   "language": "python",
   "name": "sys_python37_2019_10"
  },
  "language_info": {
   "codemirror_mode": {
    "name": "ipython",
    "version": 3
   },
   "file_extension": ".py",
   "mimetype": "text/x-python",
   "name": "python",
   "nbconvert_exporter": "python",
   "pygments_lexer": "ipython3",
   "version": "3.7.4"
  }
 },
 "nbformat": 4,
 "nbformat_minor": 4
}
