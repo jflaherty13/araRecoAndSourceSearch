{
 "cells": [
  {
   "cell_type": "code",
   "execution_count": 67,
   "metadata": {},
   "outputs": [],
   "source": [
    "from pathlib import Path\n",
    "import os\n",
    "import csv"
   ]
  },
  {
   "cell_type": "code",
   "execution_count": 83,
   "metadata": {},
   "outputs": [
    {
     "name": "stdout",
     "output_type": "stream",
     "text": [
      "28 failed runs\n",
      "['7536', '7550', '7552', '7553', '7587', '7589', '7618', '7698', '7712', '7714', '7719', '7803', '7834', '7835', '7853', '7856', '7857', '7875', '7877', '7879', '7880', '7883', '7884', '7885', '7886', '7888', '7931', '7932']\n"
     ]
    }
   ],
   "source": [
    "failedRuns = []\n",
    "pathlist = Path(\"../logs\").glob('**/*.out')\n",
    "for path in pathlist:\n",
    "     # because path is object not string\n",
    "    path_in_str = str(path)\n",
    "    with open(path_in_str, 'r') as f:\n",
    "        for line in f.readlines():\n",
    "            if 'core dumped' in line:\n",
    "                toParse = line\n",
    "                splitLine = toParse.split()\n",
    "                runline = splitLine[len(splitLine)-2]\n",
    "                runline=runline.strip(\"/fs/scratch/PAS0654/jorge/ARA_data/\")\n",
    "                failedRun = runline.partition(\"event00\")[2].strip(\".\")\n",
    "#                 print(failedRun)\n",
    "                failedRuns.append(failedRun)\n",
    "print(\"%i failed runs\"%len(failedRuns))\n",
    "failedRuns.sort()\n",
    "print(failedRuns)"
   ]
  },
  {
   "cell_type": "code",
   "execution_count": 100,
   "metadata": {},
   "outputs": [
    {
     "name": "stdout",
     "output_type": "stream",
     "text": [
      "Year: 2016\n",
      "sbatch --job-name=ReDo_CWID_7536_2016 --output=./logs/2016_CWID_7536.out --account=PCON0003 --export=ISSIM=0,STATION=2,OUTDIR=/fs/project/PAS0654/ARA_DATA/A23/10pctCalibBugFix/CWID/A2/2016,YEAR=2016,SUMMARYDIR=/fs/project/PAS0654/ARA_DATA/A23/10pctCalibBugFix/RunSummary/A2/2016,DATA=/fs/scratch/PAS0654/jorge/ARA_data/10pct/A2/2016/0704/run007536/event007536.root,PEDESTAL=/fs/project/PAS0654/ARA_DATA/A23/peds/A2/2016/pedestalValues.run007531.dat OSCReSubmit.sh\n"
     ]
    }
   ],
   "source": [
    "project = \"PCON0003\" #what project to use\n",
    "station = 2\n",
    "year = 2016\n",
    "print(\"Year: %i\"%year)\n",
    "isSim = 0 #data (0) or simulation (1)\n",
    "anaFolder = os.path.expanduser('/users/PAS0654/osu8354/ARA_cvmfs/source/AraRoot/analysis/ARA_analysis/ARA_SourceSearch/') #Where are the files with the run lists\n",
    "step1_makePairs = anaFolder + \"OSC_scripts/step1-make_ped_pairs/\"\n",
    "outputDir = \"/fs/project/PAS0654/ARA_DATA/A23/10pctCalibBugFix/CWID/A%i/%i\"%(station, year)\n",
    "summaryDir = \"/fs/project/PAS0654/ARA_DATA/A23/10pctCalibBugFix/RunSummary/A%i/%i\"%(station, year)\n",
    "file = step1_makePairs+\"A%i_%i_File_Ped_Pairs.txt\"%(station,year)\n",
    "\n",
    "with open(file, mode='r', newline='', encoding='utf-8-sig') as csvfile:\n",
    "    reader = csv.reader(csvfile)\n",
    "    count_core = 0\n",
    "    for job in reader:\n",
    "        split = os.path.split(job[0])\n",
    "        run = os.path.splitext(split[1])[0].lstrip(\"event00\")\n",
    "        if(run not in failedRuns):\n",
    "            continue\n",
    "#         print(run)\n",
    "        submit_command = (\"sbatch \"\n",
    "                        \"--job-name=ReDo_CWID_{0}_{7} --output=./logs/{7}_CWID_{0}.out --account={6} \"\n",
    "                        \"--export=ISSIM={1},STATION={2},OUTDIR={5},YEAR={7},SUMMARYDIR={3},DATA={8},PEDESTAL={4} OSCReSubmit.sh\").format(run,isSim,station,summaryDir,job[1],outputDir, project, year, job[0])#Add additional core for memory\n",
    "        print(submit_command)\n",
    "        break"
   ]
  },
  {
   "cell_type": "code",
   "execution_count": 97,
   "metadata": {},
   "outputs": [
    {
     "data": {
      "text/plain": [
       "'/fs/scratch/PAS0654/jorge/ARA_data/10pct/A2/2016/0704/run007536/event007536.root'"
      ]
     },
     "execution_count": 97,
     "metadata": {},
     "output_type": "execute_result"
    }
   ],
   "source": [
    "job[0]"
   ]
  },
  {
   "cell_type": "code",
   "execution_count": null,
   "metadata": {},
   "outputs": [],
   "source": []
  }
 ],
 "metadata": {
  "kernelspec": {
   "display_name": "Python 3.6 [python/3.6]",
   "language": "python",
   "name": "sys_python36"
  },
  "language_info": {
   "codemirror_mode": {
    "name": "ipython",
    "version": 3
   },
   "file_extension": ".py",
   "mimetype": "text/x-python",
   "name": "python",
   "nbconvert_exporter": "python",
   "pygments_lexer": "ipython3",
   "version": "3.6.3"
  }
 },
 "nbformat": 4,
 "nbformat_minor": 4
}
