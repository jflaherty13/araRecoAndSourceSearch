{
 "cells": [
  {
   "cell_type": "code",
   "execution_count": 1,
   "metadata": {},
   "outputs": [
    {
     "name": "stdout",
     "output_type": "stream",
     "text": [
      "Welcome to JupyROOT 6.18/04\n"
     ]
    }
   ],
   "source": [
    "from pathlib import Path\n",
    "import os\n",
    "import csv\n",
    "import sys\n",
    "sys.path.append(\"/cvmfs/ara.opensciencegrid.org/trunk/centos7/source4/ARA_cvmfs/root_build/lib/\") # go to parent dir\n",
    "sys.path.append(\"/users/PCON0003/cond0068/.local/lib/python3.7/site-packages/\")\n",
    "# sys.path.append(\"/users/PCON0003/cond0068/pyrex_sims/fromBen/thesis_work/pyrex-custom/analysis/custom/analysis/\")\n",
    "import ROOT\n"
   ]
  },
  {
   "cell_type": "code",
   "execution_count": 83,
   "metadata": {},
   "outputs": [
    {
     "name": "stdout",
     "output_type": "stream",
     "text": [
      "28 failed runs\n",
      "['7536', '7550', '7552', '7553', '7587', '7589', '7618', '7698', '7712', '7714', '7719', '7803', '7834', '7835', '7853', '7856', '7857', '7875', '7877', '7879', '7880', '7883', '7884', '7885', '7886', '7888', '7931', '7932']\n"
     ]
    }
   ],
   "source": [
    "failedRuns = []\n",
    "pathlist = Path(\"../logs\").glob('**/*.out')\n",
    "for path in pathlist:\n",
    "     # because path is object not string\n",
    "    path_in_str = str(path)\n",
    "    with open(path_in_str, 'r') as f:\n",
    "        for line in f.readlines():\n",
    "            if 'core dumped' in line:\n",
    "                toParse = line\n",
    "                splitLine = toParse.split()\n",
    "                runline = splitLine[len(splitLine)-2]\n",
    "                runline=runline.strip(\"/fs/scratch/PAS0654/jorge/ARA_data/\")\n",
    "                failedRun = runline.partition(\"event00\")[2].strip(\".\")\n",
    "#                 print(failedRun)\n",
    "                failedRuns.append(failedRun)\n",
    "print(\"%i failed runs\"%len(failedRuns))\n",
    "failedRuns.sort()\n",
    "print(failedRuns)"
   ]
  },
  {
   "cell_type": "code",
   "execution_count": 100,
   "metadata": {},
   "outputs": [
    {
     "name": "stdout",
     "output_type": "stream",
     "text": [
      "Year: 2016\n",
      "sbatch --job-name=ReDo_CWID_7536_2016 --output=./logs/2016_CWID_7536.out --account=PCON0003 --export=ISSIM=0,STATION=2,OUTDIR=/fs/project/PAS0654/ARA_DATA/A23/10pctCalibBugFix/CWID/A2/2016,YEAR=2016,SUMMARYDIR=/fs/project/PAS0654/ARA_DATA/A23/10pctCalibBugFix/RunSummary/A2/2016,DATA=/fs/scratch/PAS0654/jorge/ARA_data/10pct/A2/2016/0704/run007536/event007536.root,PEDESTAL=/fs/project/PAS0654/ARA_DATA/A23/peds/A2/2016/pedestalValues.run007531.dat OSCReSubmit.sh\n"
     ]
    }
   ],
   "source": [
    "project = \"PCON0003\" #what project to use\n",
    "station = 2\n",
    "year = 2016\n",
    "print(\"Year: %i\"%year)\n",
    "isSim = 0 #data (0) or simulation (1)\n",
    "anaFolder = os.path.expanduser('/cvmfs/ara.opensciencegrid.org/trunk/centos7/source4/ARA_cvmfs/source/AraRoot/analysis/ARA_analysis/ARA_SourceSearch/') #Where are the files with the run lists\n",
    "step1_makePairs = anaFolder + \"OSC_scripts/step1-make_ped_pairs/\"\n",
    "outputDir = \"/fs/project/PAS0654/ARA_DATA/A23/10pctCalibBugFix/CWID/A%i/%i\"%(station, year)\n",
    "summaryDir = \"/fs/project/PAS0654/ARA_DATA/A23/10pctCalibBugFix/RunSummary/A%i/%i\"%(station, year)\n",
    "file = step1_makePairs+\"A%i_%i_File_Ped_Pairs.txt\"%(station,year)\n",
    "\n",
    "with open(file, mode='r', newline='', encoding='utf-8-sig') as csvfile:\n",
    "    reader = csv.reader(csvfile)\n",
    "    count_core = 0\n",
    "    for job in reader:\n",
    "        split = os.path.split(job[0])\n",
    "        run = os.path.splitext(split[1])[0].lstrip(\"event00\")\n",
    "        if(run not in failedRuns):\n",
    "            continue\n",
    "#         print(run)\n",
    "        submit_command = (\"sbatch \"\n",
    "                        \"--job-name=ReDo_CWID_{0}_{7} --output=./logs/{7}_CWID_{0}.out --account={6} \"\n",
    "                        \"--export=ISSIM={1},STATION={2},OUTDIR={5},YEAR={7},SUMMARYDIR={3},DATA={8},PEDESTAL={4} OSCReSubmit.sh\").format(run,isSim,station,summaryDir,job[1],outputDir, project, year, job[0])#Add additional core for memory\n",
    "        print(submit_command)\n",
    "        break"
   ]
  },
  {
   "cell_type": "code",
   "execution_count": 38,
   "metadata": {},
   "outputs": [
    {
     "name": "stdout",
     "output_type": "stream",
     "text": [
      "/fs/project/PAS0654/ARA_DATA/A23/10pctCalibBugFix/ProcessedFile/A2/2013/processed_station_2_run_1504_recoRadius_300.root\n",
      "/fs/project/PAS0654/ARA_DATA/A23/10pctCalibBugFix/ProcessedFile/A2/2013/processed_station_2_run_1503_recoRadius_300.root\n",
      "/fs/project/PAS0654/ARA_DATA/A23/10pctCalibBugFix/ProcessedFile/A2/2013/processed_station_2_run_1501_recoRadius_41.root\n",
      "/fs/project/PAS0654/ARA_DATA/A23/10pctCalibBugFix/ProcessedFile/A2/2013/processed_station_2_run_1501_recoRadius_300.root\n",
      "/fs/project/PAS0654/ARA_DATA/A23/10pctCalibBugFix/ProcessedFile/A2/2013/processed_station_2_run_1505_recoRadius_300.root\n",
      "/fs/project/PAS0654/ARA_DATA/A23/10pctCalibBugFix/ProcessedFile/A2/2013/processed_station_2_run_1506_recoRadius_41.root\n",
      "/fs/project/PAS0654/ARA_DATA/A23/10pctCalibBugFix/ProcessedFile/A2/2013/processed_station_2_run_1505_recoRadius_41.root\n",
      "/fs/project/PAS0654/ARA_DATA/A23/10pctCalibBugFix/ProcessedFile/A2/2013/processed_station_2_run_1500_recoRadius_41.root\n",
      "/fs/project/PAS0654/ARA_DATA/A23/10pctCalibBugFix/ProcessedFile/A2/2013/processed_station_2_run_1504_recoRadius_41.root\n",
      "/fs/project/PAS0654/ARA_DATA/A23/10pctCalibBugFix/ProcessedFile/A2/2013/processed_station_2_run_1500_recoRadius_300.root\n"
     ]
    },
    {
     "name": "stderr",
     "output_type": "stream",
     "text": [
      "Warning in <TFile::Init>: file /fs/project/PAS0654/ARA_DATA/A23/10pctCalibBugFix/ProcessedFile/A2/2013/processed_station_2_run_1504_recoRadius_300.root probably not closed, trying to recover\n",
      "Warning in <TFile::Init>: no keys recovered, file has been made a Zombie\n",
      "Warning in <TFile::Init>: file /fs/project/PAS0654/ARA_DATA/A23/10pctCalibBugFix/ProcessedFile/A2/2013/processed_station_2_run_1503_recoRadius_300.root probably not closed, trying to recover\n",
      "Warning in <TFile::Init>: no keys recovered, file has been made a Zombie\n",
      "Warning in <TFile::Init>: file /fs/project/PAS0654/ARA_DATA/A23/10pctCalibBugFix/ProcessedFile/A2/2013/processed_station_2_run_1501_recoRadius_41.root probably not closed, trying to recover\n",
      "Warning in <TFile::Init>: no keys recovered, file has been made a Zombie\n",
      "Warning in <TFile::Init>: file /fs/project/PAS0654/ARA_DATA/A23/10pctCalibBugFix/ProcessedFile/A2/2013/processed_station_2_run_1501_recoRadius_300.root probably not closed, trying to recover\n",
      "Warning in <TFile::Init>: no keys recovered, file has been made a Zombie\n",
      "Warning in <TFile::Init>: file /fs/project/PAS0654/ARA_DATA/A23/10pctCalibBugFix/ProcessedFile/A2/2013/processed_station_2_run_1505_recoRadius_300.root probably not closed, trying to recover\n",
      "Warning in <TFile::Init>: no keys recovered, file has been made a Zombie\n",
      "Warning in <TFile::Init>: file /fs/project/PAS0654/ARA_DATA/A23/10pctCalibBugFix/ProcessedFile/A2/2013/processed_station_2_run_1506_recoRadius_41.root probably not closed, trying to recover\n",
      "Warning in <TFile::Init>: no keys recovered, file has been made a Zombie\n",
      "Warning in <TFile::Init>: file /fs/project/PAS0654/ARA_DATA/A23/10pctCalibBugFix/ProcessedFile/A2/2013/processed_station_2_run_1505_recoRadius_41.root probably not closed, trying to recover\n",
      "Warning in <TFile::Init>: no keys recovered, file has been made a Zombie\n",
      "Warning in <TFile::Init>: file /fs/project/PAS0654/ARA_DATA/A23/10pctCalibBugFix/ProcessedFile/A2/2013/processed_station_2_run_1500_recoRadius_41.root probably not closed, trying to recover\n",
      "Warning in <TFile::Init>: no keys recovered, file has been made a Zombie\n",
      "Warning in <TFile::Init>: file /fs/project/PAS0654/ARA_DATA/A23/10pctCalibBugFix/ProcessedFile/A2/2013/processed_station_2_run_1504_recoRadius_41.root probably not closed, trying to recover\n",
      "Warning in <TFile::Init>: no keys recovered, file has been made a Zombie\n",
      "Warning in <TFile::Init>: file /fs/project/PAS0654/ARA_DATA/A23/10pctCalibBugFix/ProcessedFile/A2/2013/processed_station_2_run_1500_recoRadius_300.root probably not closed, trying to recover\n",
      "Warning in <TFile::Init>: no keys recovered, file has been made a Zombie\n"
     ]
    }
   ],
   "source": [
    "pathlist = Path(\"/fs/project/PAS0654/ARA_DATA/A23/10pctCalibBugFix/ProcessedFile/A2/\").glob('**/*.root')\n",
    "for path in pathlist:\n",
    "    path_in_str = str(path)\n",
    "#     print(path_in_str)\n",
    "    file = ROOT.TFile.Open(path_in_str,\"READ\")\n",
    "\n",
    "    try:\n",
    "        file.IsOpen()\n",
    "    except:\n",
    "        print(path_in_str)\n"
   ]
  },
  {
   "cell_type": "code",
   "execution_count": 30,
   "metadata": {},
   "outputs": [
    {
     "name": "stdout",
     "output_type": "stream",
     "text": [
      "No\n"
     ]
    },
    {
     "name": "stderr",
     "output_type": "stream",
     "text": [
      "Warning in <TFile::Init>: file /fs/project/PAS0654/ARA_DATA/A23/10pctCalibBugFix/ProcessedFile/A2/2013/processed_station_2_run_1505_recoRadius_41.root probably not closed, trying to recover\n",
      "Warning in <TFile::Init>: no keys recovered, file has been made a Zombie\n"
     ]
    }
   ],
   "source": [
    "file = ROOT.TFile.Open(\"/fs/project/PAS0654/ARA_DATA/A23/10pctCalibBugFix/ProcessedFile/A2/2013/processed_station_2_run_1505_recoRadius_41.root\",\"READ\")\n",
    "try:\n",
    "    file.IsZombie()\n",
    "except:\n",
    "    print(\"No\")"
   ]
  },
  {
   "cell_type": "code",
   "execution_count": null,
   "metadata": {},
   "outputs": [],
   "source": []
  }
 ],
 "metadata": {
  "kernelspec": {
   "display_name": "Python 3.6 [python/3.6]",
   "language": "python",
   "name": "sys_python36"
  },
  "language_info": {
   "codemirror_mode": {
    "name": "ipython",
    "version": 3
   },
   "file_extension": ".py",
   "mimetype": "text/x-python",
   "name": "python",
   "nbconvert_exporter": "python",
   "pygments_lexer": "ipython3",
   "version": "3.6.3"
  }
 },
 "nbformat": 4,
 "nbformat_minor": 4
}
